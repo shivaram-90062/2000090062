{
  "nbformat": 4,
  "nbformat_minor": 0,
  "metadata": {
    "colab": {
      "provenance": [],
      "authorship_tag": "ABX9TyMOfAYlzMdpaq4R1rqEXn8N",
      "include_colab_link": true
    },
    "kernelspec": {
      "name": "python3",
      "display_name": "Python 3"
    },
    "language_info": {
      "name": "python"
    }
  },
  "cells": [
    {
      "cell_type": "markdown",
      "metadata": {
        "id": "view-in-github",
        "colab_type": "text"
      },
      "source": [
        "<a href=\"https://colab.research.google.com/github/shivaram-90062/2000090062/blob/main/NBA_National_Basketball_Association.ipynb\" target=\"_parent\"><img src=\"https://colab.research.google.com/assets/colab-badge.svg\" alt=\"Open In Colab\"/></a>"
      ]
    },
    {
      "cell_type": "markdown",
      "source": [
        "\n",
        "\n",
        "\n",
        " * R sivaramakrishna\n",
        " Data set  : NBA - National basket ball Association\n",
        "\n",
        "\n",
        "```\n",
        "\n"
      ],
      "metadata": {
        "id": "50ggQYTAbEnW"
      }
    },
    {
      "cell_type": "markdown",
      "source": [
        "#importing packages required"
      ],
      "metadata": {
        "id": "vq0vNYb42wVg"
      }
    },
    {
      "cell_type": "code",
      "execution_count": null,
      "metadata": {
        "id": "VNwmki6GKxDi"
      },
      "outputs": [],
      "source": [
        "import numpy as np\n",
        "import pandas as pd\n",
        "from matplotlib import pyplot as plt\n",
        "import seaborn as sns\n"
      ]
    },
    {
      "cell_type": "markdown",
      "source": [],
      "metadata": {
        "id": "JZu0kqn38jI2"
      }
    },
    {
      "cell_type": "markdown",
      "source": [
        "# Reading data set"
      ],
      "metadata": {
        "id": "ByZdyuS_dSSO"
      }
    },
    {
      "cell_type": "code",
      "source": [
        "df = pd.read_csv('/content/2021-2022 NBA Player Stats - Regular.csv', encoding=\"Windows-1252\", delimiter=\";\")\n",
        "df.head()"
      ],
      "metadata": {
        "colab": {
          "base_uri": "https://localhost:8080/",
          "height": 235
        },
        "id": "4qb55UyHLOka",
        "outputId": "1b73559c-347d-4119-dda7-3967089f53cf"
      },
      "execution_count": null,
      "outputs": [
        {
          "output_type": "execute_result",
          "data": {
            "text/plain": [
              "   Rk             Player Pos  Age   Tm   G  GS    MP   FG   FGA  ...    FT%  \\\n",
              "0   1   Precious Achiuwa   C   22  TOR  73  28  23.6  3.6   8.3  ...  0.595   \n",
              "1   2       Steven Adams   C   28  MEM  76  75  26.3  2.8   5.1  ...  0.543   \n",
              "2   3        Bam Adebayo   C   24  MIA  56  56  32.6  7.3  13.0  ...  0.753   \n",
              "3   4       Santi Aldama  PF   21  MEM  32   0  11.3  1.7   4.1  ...  0.625   \n",
              "4   5  LaMarcus Aldridge   C   36  BRK  47  12  22.3  5.4   9.7  ...  0.873   \n",
              "\n",
              "   ORB  DRB   TRB  AST  STL  BLK  TOV   PF   PTS  \n",
              "0  2.0  4.5   6.5  1.1  0.5  0.6  1.2  2.1   9.1  \n",
              "1  4.6  5.4  10.0  3.4  0.9  0.8  1.5  2.0   6.9  \n",
              "2  2.4  7.6  10.1  3.4  1.4  0.8  2.6  3.1  19.1  \n",
              "3  1.0  1.7   2.7  0.7  0.2  0.3  0.5  1.1   4.1  \n",
              "4  1.6  3.9   5.5  0.9  0.3  1.0  0.9  1.7  12.9  \n",
              "\n",
              "[5 rows x 30 columns]"
            ],
            "text/html": [
              "\n",
              "  <div id=\"df-28bbe174-e31d-4073-ba9f-b46b47f84622\">\n",
              "    <div class=\"colab-df-container\">\n",
              "      <div>\n",
              "<style scoped>\n",
              "    .dataframe tbody tr th:only-of-type {\n",
              "        vertical-align: middle;\n",
              "    }\n",
              "\n",
              "    .dataframe tbody tr th {\n",
              "        vertical-align: top;\n",
              "    }\n",
              "\n",
              "    .dataframe thead th {\n",
              "        text-align: right;\n",
              "    }\n",
              "</style>\n",
              "<table border=\"1\" class=\"dataframe\">\n",
              "  <thead>\n",
              "    <tr style=\"text-align: right;\">\n",
              "      <th></th>\n",
              "      <th>Rk</th>\n",
              "      <th>Player</th>\n",
              "      <th>Pos</th>\n",
              "      <th>Age</th>\n",
              "      <th>Tm</th>\n",
              "      <th>G</th>\n",
              "      <th>GS</th>\n",
              "      <th>MP</th>\n",
              "      <th>FG</th>\n",
              "      <th>FGA</th>\n",
              "      <th>...</th>\n",
              "      <th>FT%</th>\n",
              "      <th>ORB</th>\n",
              "      <th>DRB</th>\n",
              "      <th>TRB</th>\n",
              "      <th>AST</th>\n",
              "      <th>STL</th>\n",
              "      <th>BLK</th>\n",
              "      <th>TOV</th>\n",
              "      <th>PF</th>\n",
              "      <th>PTS</th>\n",
              "    </tr>\n",
              "  </thead>\n",
              "  <tbody>\n",
              "    <tr>\n",
              "      <th>0</th>\n",
              "      <td>1</td>\n",
              "      <td>Precious Achiuwa</td>\n",
              "      <td>C</td>\n",
              "      <td>22</td>\n",
              "      <td>TOR</td>\n",
              "      <td>73</td>\n",
              "      <td>28</td>\n",
              "      <td>23.6</td>\n",
              "      <td>3.6</td>\n",
              "      <td>8.3</td>\n",
              "      <td>...</td>\n",
              "      <td>0.595</td>\n",
              "      <td>2.0</td>\n",
              "      <td>4.5</td>\n",
              "      <td>6.5</td>\n",
              "      <td>1.1</td>\n",
              "      <td>0.5</td>\n",
              "      <td>0.6</td>\n",
              "      <td>1.2</td>\n",
              "      <td>2.1</td>\n",
              "      <td>9.1</td>\n",
              "    </tr>\n",
              "    <tr>\n",
              "      <th>1</th>\n",
              "      <td>2</td>\n",
              "      <td>Steven Adams</td>\n",
              "      <td>C</td>\n",
              "      <td>28</td>\n",
              "      <td>MEM</td>\n",
              "      <td>76</td>\n",
              "      <td>75</td>\n",
              "      <td>26.3</td>\n",
              "      <td>2.8</td>\n",
              "      <td>5.1</td>\n",
              "      <td>...</td>\n",
              "      <td>0.543</td>\n",
              "      <td>4.6</td>\n",
              "      <td>5.4</td>\n",
              "      <td>10.0</td>\n",
              "      <td>3.4</td>\n",
              "      <td>0.9</td>\n",
              "      <td>0.8</td>\n",
              "      <td>1.5</td>\n",
              "      <td>2.0</td>\n",
              "      <td>6.9</td>\n",
              "    </tr>\n",
              "    <tr>\n",
              "      <th>2</th>\n",
              "      <td>3</td>\n",
              "      <td>Bam Adebayo</td>\n",
              "      <td>C</td>\n",
              "      <td>24</td>\n",
              "      <td>MIA</td>\n",
              "      <td>56</td>\n",
              "      <td>56</td>\n",
              "      <td>32.6</td>\n",
              "      <td>7.3</td>\n",
              "      <td>13.0</td>\n",
              "      <td>...</td>\n",
              "      <td>0.753</td>\n",
              "      <td>2.4</td>\n",
              "      <td>7.6</td>\n",
              "      <td>10.1</td>\n",
              "      <td>3.4</td>\n",
              "      <td>1.4</td>\n",
              "      <td>0.8</td>\n",
              "      <td>2.6</td>\n",
              "      <td>3.1</td>\n",
              "      <td>19.1</td>\n",
              "    </tr>\n",
              "    <tr>\n",
              "      <th>3</th>\n",
              "      <td>4</td>\n",
              "      <td>Santi Aldama</td>\n",
              "      <td>PF</td>\n",
              "      <td>21</td>\n",
              "      <td>MEM</td>\n",
              "      <td>32</td>\n",
              "      <td>0</td>\n",
              "      <td>11.3</td>\n",
              "      <td>1.7</td>\n",
              "      <td>4.1</td>\n",
              "      <td>...</td>\n",
              "      <td>0.625</td>\n",
              "      <td>1.0</td>\n",
              "      <td>1.7</td>\n",
              "      <td>2.7</td>\n",
              "      <td>0.7</td>\n",
              "      <td>0.2</td>\n",
              "      <td>0.3</td>\n",
              "      <td>0.5</td>\n",
              "      <td>1.1</td>\n",
              "      <td>4.1</td>\n",
              "    </tr>\n",
              "    <tr>\n",
              "      <th>4</th>\n",
              "      <td>5</td>\n",
              "      <td>LaMarcus Aldridge</td>\n",
              "      <td>C</td>\n",
              "      <td>36</td>\n",
              "      <td>BRK</td>\n",
              "      <td>47</td>\n",
              "      <td>12</td>\n",
              "      <td>22.3</td>\n",
              "      <td>5.4</td>\n",
              "      <td>9.7</td>\n",
              "      <td>...</td>\n",
              "      <td>0.873</td>\n",
              "      <td>1.6</td>\n",
              "      <td>3.9</td>\n",
              "      <td>5.5</td>\n",
              "      <td>0.9</td>\n",
              "      <td>0.3</td>\n",
              "      <td>1.0</td>\n",
              "      <td>0.9</td>\n",
              "      <td>1.7</td>\n",
              "      <td>12.9</td>\n",
              "    </tr>\n",
              "  </tbody>\n",
              "</table>\n",
              "<p>5 rows × 30 columns</p>\n",
              "</div>\n",
              "      <button class=\"colab-df-convert\" onclick=\"convertToInteractive('df-28bbe174-e31d-4073-ba9f-b46b47f84622')\"\n",
              "              title=\"Convert this dataframe to an interactive table.\"\n",
              "              style=\"display:none;\">\n",
              "        \n",
              "  <svg xmlns=\"http://www.w3.org/2000/svg\" height=\"24px\"viewBox=\"0 0 24 24\"\n",
              "       width=\"24px\">\n",
              "    <path d=\"M0 0h24v24H0V0z\" fill=\"none\"/>\n",
              "    <path d=\"M18.56 5.44l.94 2.06.94-2.06 2.06-.94-2.06-.94-.94-2.06-.94 2.06-2.06.94zm-11 1L8.5 8.5l.94-2.06 2.06-.94-2.06-.94L8.5 2.5l-.94 2.06-2.06.94zm10 10l.94 2.06.94-2.06 2.06-.94-2.06-.94-.94-2.06-.94 2.06-2.06.94z\"/><path d=\"M17.41 7.96l-1.37-1.37c-.4-.4-.92-.59-1.43-.59-.52 0-1.04.2-1.43.59L10.3 9.45l-7.72 7.72c-.78.78-.78 2.05 0 2.83L4 21.41c.39.39.9.59 1.41.59.51 0 1.02-.2 1.41-.59l7.78-7.78 2.81-2.81c.8-.78.8-2.07 0-2.86zM5.41 20L4 18.59l7.72-7.72 1.47 1.35L5.41 20z\"/>\n",
              "  </svg>\n",
              "      </button>\n",
              "      \n",
              "  <style>\n",
              "    .colab-df-container {\n",
              "      display:flex;\n",
              "      flex-wrap:wrap;\n",
              "      gap: 12px;\n",
              "    }\n",
              "\n",
              "    .colab-df-convert {\n",
              "      background-color: #E8F0FE;\n",
              "      border: none;\n",
              "      border-radius: 50%;\n",
              "      cursor: pointer;\n",
              "      display: none;\n",
              "      fill: #1967D2;\n",
              "      height: 32px;\n",
              "      padding: 0 0 0 0;\n",
              "      width: 32px;\n",
              "    }\n",
              "\n",
              "    .colab-df-convert:hover {\n",
              "      background-color: #E2EBFA;\n",
              "      box-shadow: 0px 1px 2px rgba(60, 64, 67, 0.3), 0px 1px 3px 1px rgba(60, 64, 67, 0.15);\n",
              "      fill: #174EA6;\n",
              "    }\n",
              "\n",
              "    [theme=dark] .colab-df-convert {\n",
              "      background-color: #3B4455;\n",
              "      fill: #D2E3FC;\n",
              "    }\n",
              "\n",
              "    [theme=dark] .colab-df-convert:hover {\n",
              "      background-color: #434B5C;\n",
              "      box-shadow: 0px 1px 3px 1px rgba(0, 0, 0, 0.15);\n",
              "      filter: drop-shadow(0px 1px 2px rgba(0, 0, 0, 0.3));\n",
              "      fill: #FFFFFF;\n",
              "    }\n",
              "  </style>\n",
              "\n",
              "      <script>\n",
              "        const buttonEl =\n",
              "          document.querySelector('#df-28bbe174-e31d-4073-ba9f-b46b47f84622 button.colab-df-convert');\n",
              "        buttonEl.style.display =\n",
              "          google.colab.kernel.accessAllowed ? 'block' : 'none';\n",
              "\n",
              "        async function convertToInteractive(key) {\n",
              "          const element = document.querySelector('#df-28bbe174-e31d-4073-ba9f-b46b47f84622');\n",
              "          const dataTable =\n",
              "            await google.colab.kernel.invokeFunction('convertToInteractive',\n",
              "                                                     [key], {});\n",
              "          if (!dataTable) return;\n",
              "\n",
              "          const docLinkHtml = 'Like what you see? Visit the ' +\n",
              "            '<a target=\"_blank\" href=https://colab.research.google.com/notebooks/data_table.ipynb>data table notebook</a>'\n",
              "            + ' to learn more about interactive tables.';\n",
              "          element.innerHTML = '';\n",
              "          dataTable['output_type'] = 'display_data';\n",
              "          await google.colab.output.renderOutput(dataTable, element);\n",
              "          const docLink = document.createElement('div');\n",
              "          docLink.innerHTML = docLinkHtml;\n",
              "          element.appendChild(docLink);\n",
              "        }\n",
              "      </script>\n",
              "    </div>\n",
              "  </div>\n",
              "  "
            ]
          },
          "metadata": {},
          "execution_count": 5
        }
      ]
    },
    {
      "cell_type": "code",
      "source": [
        "df = df.drop(['Rk', 'Age', 'Tm'], axis=1)"
      ],
      "metadata": {
        "id": "0xkCa9Y7MxPI"
      },
      "execution_count": null,
      "outputs": []
    },
    {
      "cell_type": "code",
      "source": [
        "\n",
        "mapping = {'C': 'non-guard', 'PF': 'non-guard', 'SF': 'non-guard', 'SG': 'guard', 'PG': 'guard'}\n",
        "df=df.replace({'Pos': mapping})\n",
        "df.head()"
      ],
      "metadata": {
        "colab": {
          "base_uri": "https://localhost:8080/",
          "height": 235
        },
        "id": "Amy_40FAMymT",
        "outputId": "6026c491-c25f-499a-e53d-0fd399c85ab1"
      },
      "execution_count": null,
      "outputs": [
        {
          "output_type": "execute_result",
          "data": {
            "text/plain": [
              "              Player        Pos   G  GS    MP   FG   FGA    FG%   3P  3PA  \\\n",
              "0   Precious Achiuwa  non-guard  73  28  23.6  3.6   8.3  0.439  0.8  2.1   \n",
              "1       Steven Adams  non-guard  76  75  26.3  2.8   5.1  0.547  0.0  0.0   \n",
              "2        Bam Adebayo  non-guard  56  56  32.6  7.3  13.0  0.557  0.0  0.1   \n",
              "3       Santi Aldama  non-guard  32   0  11.3  1.7   4.1  0.402  0.2  1.5   \n",
              "4  LaMarcus Aldridge  non-guard  47  12  22.3  5.4   9.7  0.550  0.3  1.0   \n",
              "\n",
              "   ...    FT%  ORB  DRB   TRB  AST  STL  BLK  TOV   PF   PTS  \n",
              "0  ...  0.595  2.0  4.5   6.5  1.1  0.5  0.6  1.2  2.1   9.1  \n",
              "1  ...  0.543  4.6  5.4  10.0  3.4  0.9  0.8  1.5  2.0   6.9  \n",
              "2  ...  0.753  2.4  7.6  10.1  3.4  1.4  0.8  2.6  3.1  19.1  \n",
              "3  ...  0.625  1.0  1.7   2.7  0.7  0.2  0.3  0.5  1.1   4.1  \n",
              "4  ...  0.873  1.6  3.9   5.5  0.9  0.3  1.0  0.9  1.7  12.9  \n",
              "\n",
              "[5 rows x 27 columns]"
            ],
            "text/html": [
              "\n",
              "  <div id=\"df-38a243f9-8ac1-4cd7-b06e-7f17fa782a1a\">\n",
              "    <div class=\"colab-df-container\">\n",
              "      <div>\n",
              "<style scoped>\n",
              "    .dataframe tbody tr th:only-of-type {\n",
              "        vertical-align: middle;\n",
              "    }\n",
              "\n",
              "    .dataframe tbody tr th {\n",
              "        vertical-align: top;\n",
              "    }\n",
              "\n",
              "    .dataframe thead th {\n",
              "        text-align: right;\n",
              "    }\n",
              "</style>\n",
              "<table border=\"1\" class=\"dataframe\">\n",
              "  <thead>\n",
              "    <tr style=\"text-align: right;\">\n",
              "      <th></th>\n",
              "      <th>Player</th>\n",
              "      <th>Pos</th>\n",
              "      <th>G</th>\n",
              "      <th>GS</th>\n",
              "      <th>MP</th>\n",
              "      <th>FG</th>\n",
              "      <th>FGA</th>\n",
              "      <th>FG%</th>\n",
              "      <th>3P</th>\n",
              "      <th>3PA</th>\n",
              "      <th>...</th>\n",
              "      <th>FT%</th>\n",
              "      <th>ORB</th>\n",
              "      <th>DRB</th>\n",
              "      <th>TRB</th>\n",
              "      <th>AST</th>\n",
              "      <th>STL</th>\n",
              "      <th>BLK</th>\n",
              "      <th>TOV</th>\n",
              "      <th>PF</th>\n",
              "      <th>PTS</th>\n",
              "    </tr>\n",
              "  </thead>\n",
              "  <tbody>\n",
              "    <tr>\n",
              "      <th>0</th>\n",
              "      <td>Precious Achiuwa</td>\n",
              "      <td>non-guard</td>\n",
              "      <td>73</td>\n",
              "      <td>28</td>\n",
              "      <td>23.6</td>\n",
              "      <td>3.6</td>\n",
              "      <td>8.3</td>\n",
              "      <td>0.439</td>\n",
              "      <td>0.8</td>\n",
              "      <td>2.1</td>\n",
              "      <td>...</td>\n",
              "      <td>0.595</td>\n",
              "      <td>2.0</td>\n",
              "      <td>4.5</td>\n",
              "      <td>6.5</td>\n",
              "      <td>1.1</td>\n",
              "      <td>0.5</td>\n",
              "      <td>0.6</td>\n",
              "      <td>1.2</td>\n",
              "      <td>2.1</td>\n",
              "      <td>9.1</td>\n",
              "    </tr>\n",
              "    <tr>\n",
              "      <th>1</th>\n",
              "      <td>Steven Adams</td>\n",
              "      <td>non-guard</td>\n",
              "      <td>76</td>\n",
              "      <td>75</td>\n",
              "      <td>26.3</td>\n",
              "      <td>2.8</td>\n",
              "      <td>5.1</td>\n",
              "      <td>0.547</td>\n",
              "      <td>0.0</td>\n",
              "      <td>0.0</td>\n",
              "      <td>...</td>\n",
              "      <td>0.543</td>\n",
              "      <td>4.6</td>\n",
              "      <td>5.4</td>\n",
              "      <td>10.0</td>\n",
              "      <td>3.4</td>\n",
              "      <td>0.9</td>\n",
              "      <td>0.8</td>\n",
              "      <td>1.5</td>\n",
              "      <td>2.0</td>\n",
              "      <td>6.9</td>\n",
              "    </tr>\n",
              "    <tr>\n",
              "      <th>2</th>\n",
              "      <td>Bam Adebayo</td>\n",
              "      <td>non-guard</td>\n",
              "      <td>56</td>\n",
              "      <td>56</td>\n",
              "      <td>32.6</td>\n",
              "      <td>7.3</td>\n",
              "      <td>13.0</td>\n",
              "      <td>0.557</td>\n",
              "      <td>0.0</td>\n",
              "      <td>0.1</td>\n",
              "      <td>...</td>\n",
              "      <td>0.753</td>\n",
              "      <td>2.4</td>\n",
              "      <td>7.6</td>\n",
              "      <td>10.1</td>\n",
              "      <td>3.4</td>\n",
              "      <td>1.4</td>\n",
              "      <td>0.8</td>\n",
              "      <td>2.6</td>\n",
              "      <td>3.1</td>\n",
              "      <td>19.1</td>\n",
              "    </tr>\n",
              "    <tr>\n",
              "      <th>3</th>\n",
              "      <td>Santi Aldama</td>\n",
              "      <td>non-guard</td>\n",
              "      <td>32</td>\n",
              "      <td>0</td>\n",
              "      <td>11.3</td>\n",
              "      <td>1.7</td>\n",
              "      <td>4.1</td>\n",
              "      <td>0.402</td>\n",
              "      <td>0.2</td>\n",
              "      <td>1.5</td>\n",
              "      <td>...</td>\n",
              "      <td>0.625</td>\n",
              "      <td>1.0</td>\n",
              "      <td>1.7</td>\n",
              "      <td>2.7</td>\n",
              "      <td>0.7</td>\n",
              "      <td>0.2</td>\n",
              "      <td>0.3</td>\n",
              "      <td>0.5</td>\n",
              "      <td>1.1</td>\n",
              "      <td>4.1</td>\n",
              "    </tr>\n",
              "    <tr>\n",
              "      <th>4</th>\n",
              "      <td>LaMarcus Aldridge</td>\n",
              "      <td>non-guard</td>\n",
              "      <td>47</td>\n",
              "      <td>12</td>\n",
              "      <td>22.3</td>\n",
              "      <td>5.4</td>\n",
              "      <td>9.7</td>\n",
              "      <td>0.550</td>\n",
              "      <td>0.3</td>\n",
              "      <td>1.0</td>\n",
              "      <td>...</td>\n",
              "      <td>0.873</td>\n",
              "      <td>1.6</td>\n",
              "      <td>3.9</td>\n",
              "      <td>5.5</td>\n",
              "      <td>0.9</td>\n",
              "      <td>0.3</td>\n",
              "      <td>1.0</td>\n",
              "      <td>0.9</td>\n",
              "      <td>1.7</td>\n",
              "      <td>12.9</td>\n",
              "    </tr>\n",
              "  </tbody>\n",
              "</table>\n",
              "<p>5 rows × 27 columns</p>\n",
              "</div>\n",
              "      <button class=\"colab-df-convert\" onclick=\"convertToInteractive('df-38a243f9-8ac1-4cd7-b06e-7f17fa782a1a')\"\n",
              "              title=\"Convert this dataframe to an interactive table.\"\n",
              "              style=\"display:none;\">\n",
              "        \n",
              "  <svg xmlns=\"http://www.w3.org/2000/svg\" height=\"24px\"viewBox=\"0 0 24 24\"\n",
              "       width=\"24px\">\n",
              "    <path d=\"M0 0h24v24H0V0z\" fill=\"none\"/>\n",
              "    <path d=\"M18.56 5.44l.94 2.06.94-2.06 2.06-.94-2.06-.94-.94-2.06-.94 2.06-2.06.94zm-11 1L8.5 8.5l.94-2.06 2.06-.94-2.06-.94L8.5 2.5l-.94 2.06-2.06.94zm10 10l.94 2.06.94-2.06 2.06-.94-2.06-.94-.94-2.06-.94 2.06-2.06.94z\"/><path d=\"M17.41 7.96l-1.37-1.37c-.4-.4-.92-.59-1.43-.59-.52 0-1.04.2-1.43.59L10.3 9.45l-7.72 7.72c-.78.78-.78 2.05 0 2.83L4 21.41c.39.39.9.59 1.41.59.51 0 1.02-.2 1.41-.59l7.78-7.78 2.81-2.81c.8-.78.8-2.07 0-2.86zM5.41 20L4 18.59l7.72-7.72 1.47 1.35L5.41 20z\"/>\n",
              "  </svg>\n",
              "      </button>\n",
              "      \n",
              "  <style>\n",
              "    .colab-df-container {\n",
              "      display:flex;\n",
              "      flex-wrap:wrap;\n",
              "      gap: 12px;\n",
              "    }\n",
              "\n",
              "    .colab-df-convert {\n",
              "      background-color: #E8F0FE;\n",
              "      border: none;\n",
              "      border-radius: 50%;\n",
              "      cursor: pointer;\n",
              "      display: none;\n",
              "      fill: #1967D2;\n",
              "      height: 32px;\n",
              "      padding: 0 0 0 0;\n",
              "      width: 32px;\n",
              "    }\n",
              "\n",
              "    .colab-df-convert:hover {\n",
              "      background-color: #E2EBFA;\n",
              "      box-shadow: 0px 1px 2px rgba(60, 64, 67, 0.3), 0px 1px 3px 1px rgba(60, 64, 67, 0.15);\n",
              "      fill: #174EA6;\n",
              "    }\n",
              "\n",
              "    [theme=dark] .colab-df-convert {\n",
              "      background-color: #3B4455;\n",
              "      fill: #D2E3FC;\n",
              "    }\n",
              "\n",
              "    [theme=dark] .colab-df-convert:hover {\n",
              "      background-color: #434B5C;\n",
              "      box-shadow: 0px 1px 3px 1px rgba(0, 0, 0, 0.15);\n",
              "      filter: drop-shadow(0px 1px 2px rgba(0, 0, 0, 0.3));\n",
              "      fill: #FFFFFF;\n",
              "    }\n",
              "  </style>\n",
              "\n",
              "      <script>\n",
              "        const buttonEl =\n",
              "          document.querySelector('#df-38a243f9-8ac1-4cd7-b06e-7f17fa782a1a button.colab-df-convert');\n",
              "        buttonEl.style.display =\n",
              "          google.colab.kernel.accessAllowed ? 'block' : 'none';\n",
              "\n",
              "        async function convertToInteractive(key) {\n",
              "          const element = document.querySelector('#df-38a243f9-8ac1-4cd7-b06e-7f17fa782a1a');\n",
              "          const dataTable =\n",
              "            await google.colab.kernel.invokeFunction('convertToInteractive',\n",
              "                                                     [key], {});\n",
              "          if (!dataTable) return;\n",
              "\n",
              "          const docLinkHtml = 'Like what you see? Visit the ' +\n",
              "            '<a target=\"_blank\" href=https://colab.research.google.com/notebooks/data_table.ipynb>data table notebook</a>'\n",
              "            + ' to learn more about interactive tables.';\n",
              "          element.innerHTML = '';\n",
              "          dataTable['output_type'] = 'display_data';\n",
              "          await google.colab.output.renderOutput(dataTable, element);\n",
              "          const docLink = document.createElement('div');\n",
              "          docLink.innerHTML = docLinkHtml;\n",
              "          element.appendChild(docLink);\n",
              "        }\n",
              "      </script>\n",
              "    </div>\n",
              "  </div>\n",
              "  "
            ]
          },
          "metadata": {},
          "execution_count": 7
        }
      ]
    },
    {
      "cell_type": "code",
      "source": [
        "print(df.shape)"
      ],
      "metadata": {
        "colab": {
          "base_uri": "https://localhost:8080/"
        },
        "id": "ANxvvEKTMypV",
        "outputId": "3ddc1a78-9a2f-41de-c59c-0546574c14ca"
      },
      "execution_count": null,
      "outputs": [
        {
          "output_type": "stream",
          "name": "stdout",
          "text": [
            "(812, 27)\n"
          ]
        }
      ]
    },
    {
      "cell_type": "markdown",
      "source": [],
      "metadata": {
        "id": "wCEcv2GsPDDf"
      }
    },
    {
      "cell_type": "code",
      "source": [
        "X  = df.iloc[:, 1: 27]\n",
        "y = df.iloc[:, 1]\n",
        "corrmat = df.corr()\n",
        "top_corr_features = corrmat.index\n",
        "plt.figure(figsize=(20,20))\n",
        "#plot heat map\n",
        "g=sns.heatmap(df[top_corr_features].corr(),annot=True,cmap=\"RdYlGn\")"
      ],
      "metadata": {
        "colab": {
          "base_uri": "https://localhost:8080/",
          "height": 1000
        },
        "id": "-PcF-hmBMyr0",
        "outputId": "9db9ff24-78c1-4737-c7c9-d5dd4b28e50f"
      },
      "execution_count": null,
      "outputs": [
        {
          "output_type": "display_data",
          "data": {
            "text/plain": [
              "<Figure size 1440x1440 with 2 Axes>"
            ],
            "image/png": "[encoded data removed]"
          },
          "metadata": {
            "needs_background": "light"
          }
        }
      ]
    },
    {
      "cell_type": "code",
      "source": [
        "# Data scaling:\n",
        "columns = df.columns[2:]\n",
        "columns"
      ],
      "metadata": {
        "id": "fHyGl2f8QygQ",
        "colab": {
          "base_uri": "https://localhost:8080/"
        },
        "outputId": "3453da1c-3e30-49ba-ff19-901740663e03"
      },
      "execution_count": null,
      "outputs": [
        {
          "output_type": "execute_result",
          "data": {
            "text/plain": [
              "Index(['G', 'GS', 'MP', 'FG', 'FGA', 'FG%', '3P', '3PA', '3P%', '2P', '2PA',\n",
              "       '2P%', 'eFG%', 'FT', 'FTA', 'FT%', 'ORB', 'DRB', 'TRB', 'AST', 'STL',\n",
              "       'BLK', 'TOV', 'PF', 'PTS'],\n",
              "      dtype='object')"
            ]
          },
          "metadata": {},
          "execution_count": 10
        }
      ]
    },
    {
      "cell_type": "code",
      "source": [
        "df2 = df.drop(['Player', 'Pos'], axis=1)\n",
        "from sklearn.preprocessing import MinMaxScaler\n",
        "scaler = MinMaxScaler()\n",
        "df_scaled = scaler.fit_transform(df2.to_numpy())\n",
        "print(df_scaled)"
      ],
      "metadata": {
        "id": "Gb9zFejfQyjc",
        "colab": {
          "base_uri": "https://localhost:8080/"
        },
        "outputId": "6f5d3a01-19e8-4d66-e2df-8839bd5ba401"
      },
      "execution_count": null,
      "outputs": [
        {
          "output_type": "stream",
          "name": "stdout",
          "text": [
            "[[0.88888889 0.34146341 0.53176471 ... 0.25       0.42       0.29738562]\n",
            " [0.92592593 0.91463415 0.59529412 ... 0.3125     0.4        0.2254902 ]\n",
            " [0.67901235 0.68292683 0.74352941 ... 0.54166667 0.62       0.62418301]\n",
            " ...\n",
            " [0.67901235 0.14634146 0.27294118 ... 0.14583333 0.3        0.17320261]\n",
            " [0.32098765 0.         0.28470588 ... 0.14583333 0.42       0.16993464]\n",
            " [0.92592593 0.92682927 0.55058824 ... 0.3125     0.54       0.33660131]]\n"
          ]
        }
      ]
    },
    {
      "cell_type": "code",
      "source": [
        "df_scaled = pd.DataFrame(df_scaled, columns = columns)\n",
        "df_scaled = pd.concat((df_scaled, df['Pos']), axis=1)"
      ],
      "metadata": {
        "id": "dkf1FilVQyla"
      },
      "execution_count": null,
      "outputs": []
    },
    {
      "cell_type": "code",
      "source": [
        "df_scaled.iloc[::100]"
      ],
      "metadata": {
        "colab": {
          "base_uri": "https://localhost:8080/",
          "height": 511
        },
        "id": "yuZIomctwy_h",
        "outputId": "4b224126-0b5c-4a59-f7f6-b1735c0c7abd"
      },
      "execution_count": null,
      "outputs": [
        {
          "output_type": "execute_result",
          "data": {
            "text/plain": [
              "            G        GS        MP        FG       FGA    FG%        3P  \\\n",
              "0    0.888889  0.341463  0.531765  0.315789  0.380734  0.439  0.177778   \n",
              "100  0.320988  0.109756  0.360000  0.254386  0.252294  0.520  0.088889   \n",
              "200  0.876543  0.878049  0.783529  0.666667  0.793578  0.441  0.666667   \n",
              "300  0.851852  0.341463  0.447059  0.307018  0.261468  0.616  0.066667   \n",
              "400  0.037037  0.000000  0.277647  0.157895  0.174312  0.467  0.066667   \n",
              "500  0.197531  0.036585  0.261176  0.122807  0.165138  0.393  0.111111   \n",
              "600  0.876543  0.719512  0.640000  0.508772  0.555046  0.479  0.400000   \n",
              "700  0.481481  0.012195  0.414118  0.315789  0.357798  0.458  0.155556   \n",
              "800  0.049383  0.000000  0.065882  0.035088  0.027523  0.667  0.044444   \n",
              "\n",
              "          3PA    3P%        2P  ...       ORB       DRB       TRB       AST  \\\n",
              "0    0.179487  0.359  0.305263  ...  0.434783  0.409091  0.442177  0.101852   \n",
              "100  0.136752  0.286  0.252632  ...  0.217391  0.272727  0.272109  0.083333   \n",
              "200  0.717949  0.357  0.484211  ...  0.195652  0.354545  0.326531  0.351852   \n",
              "300  0.068376  0.351  0.336842  ...  0.347826  0.263636  0.306122  0.055556   \n",
              "400  0.085470  0.250  0.157895  ...  0.065217  0.209091  0.170068  0.092593   \n",
              "500  0.136752  0.333  0.094737  ...  0.173913  0.109091  0.129252  0.027778   \n",
              "600  0.401709  0.393  0.410526  ...  0.543478  0.600000  0.619048  0.111111   \n",
              "700  0.188034  0.310  0.305263  ...  0.065217  0.227273  0.190476  0.361111   \n",
              "800  0.034188  0.500  0.021053  ...  0.000000  0.000000  0.000000  0.055556   \n",
              "\n",
              "      STL       BLK       TOV    PF       PTS        Pos  \n",
              "0    0.20  0.214286  0.250000  0.42  0.297386  non-guard  \n",
              "100  0.08  0.285714  0.145833  0.32  0.241830  non-guard  \n",
              "200  0.60  0.214286  0.541667  0.46  0.696078      guard  \n",
              "300  0.20  0.285714  0.166667  0.44  0.303922  non-guard  \n",
              "400  0.20  0.000000  0.062500  0.40  0.222222      guard  \n",
              "500  0.04  0.071429  0.083333  0.30  0.114379  non-guard  \n",
              "600  0.28  0.250000  0.270833  0.48  0.477124  non-guard  \n",
              "700  0.24  0.035714  0.354167  0.44  0.303922      guard  \n",
              "800  0.00  0.000000  0.041667  0.04  0.032680      guard  \n",
              "\n",
              "[9 rows x 26 columns]"
            ],
            "text/html": [
              "\n",
              "  <div id=\"df-2b0bc29e-db4a-4203-95c0-bf0128b2f78f\">\n",
              "    <div class=\"colab-df-container\">\n",
              "      <div>\n",
              "<style scoped>\n",
              "    .dataframe tbody tr th:only-of-type {\n",
              "        vertical-align: middle;\n",
              "    }\n",
              "\n",
              "    .dataframe tbody tr th {\n",
              "        vertical-align: top;\n",
              "    }\n",
              "\n",
              "    .dataframe thead th {\n",
              "        text-align: right;\n",
              "    }\n",
              "</style>\n",
              "<table border=\"1\" class=\"dataframe\">\n",
              "  <thead>\n",
              "    <tr style=\"text-align: right;\">\n",
              "      <th></th>\n",
              "      <th>G</th>\n",
              "      <th>GS</th>\n",
              "      <th>MP</th>\n",
              "      <th>FG</th>\n",
              "      <th>FGA</th>\n",
              "      <th>FG%</th>\n",
              "      <th>3P</th>\n",
              "      <th>3PA</th>\n",
              "      <th>3P%</th>\n",
              "      <th>2P</th>\n",
              "      <th>...</th>\n",
              "      <th>ORB</th>\n",
              "      <th>DRB</th>\n",
              "      <th>TRB</th>\n",
              "      <th>AST</th>\n",
              "      <th>STL</th>\n",
              "      <th>BLK</th>\n",
              "      <th>TOV</th>\n",
              "      <th>PF</th>\n",
              "      <th>PTS</th>\n",
              "      <th>Pos</th>\n",
              "    </tr>\n",
              "  </thead>\n",
              "  <tbody>\n",
              "    <tr>\n",
              "      <th>0</th>\n",
              "      <td>0.888889</td>\n",
              "      <td>0.341463</td>\n",
              "      <td>0.531765</td>\n",
              "      <td>0.315789</td>\n",
              "      <td>0.380734</td>\n",
              "      <td>0.439</td>\n",
              "      <td>0.177778</td>\n",
              "      <td>0.179487</td>\n",
              "      <td>0.359</td>\n",
              "      <td>0.305263</td>\n",
              "      <td>...</td>\n",
              "      <td>0.434783</td>\n",
              "      <td>0.409091</td>\n",
              "      <td>0.442177</td>\n",
              "      <td>0.101852</td>\n",
              "      <td>0.20</td>\n",
              "      <td>0.214286</td>\n",
              "      <td>0.250000</td>\n",
              "      <td>0.42</td>\n",
              "      <td>0.297386</td>\n",
              "      <td>non-guard</td>\n",
              "    </tr>\n",
              "    <tr>\n",
              "      <th>100</th>\n",
              "      <td>0.320988</td>\n",
              "      <td>0.109756</td>\n",
              "      <td>0.360000</td>\n",
              "      <td>0.254386</td>\n",
              "      <td>0.252294</td>\n",
              "      <td>0.520</td>\n",
              "      <td>0.088889</td>\n",
              "      <td>0.136752</td>\n",
              "      <td>0.286</td>\n",
              "      <td>0.252632</td>\n",
              "      <td>...</td>\n",
              "      <td>0.217391</td>\n",
              "      <td>0.272727</td>\n",
              "      <td>0.272109</td>\n",
              "      <td>0.083333</td>\n",
              "      <td>0.08</td>\n",
              "      <td>0.285714</td>\n",
              "      <td>0.145833</td>\n",
              "      <td>0.32</td>\n",
              "      <td>0.241830</td>\n",
              "      <td>non-guard</td>\n",
              "    </tr>\n",
              "    <tr>\n",
              "      <th>200</th>\n",
              "      <td>0.876543</td>\n",
              "      <td>0.878049</td>\n",
              "      <td>0.783529</td>\n",
              "      <td>0.666667</td>\n",
              "      <td>0.793578</td>\n",
              "      <td>0.441</td>\n",
              "      <td>0.666667</td>\n",
              "      <td>0.717949</td>\n",
              "      <td>0.357</td>\n",
              "      <td>0.484211</td>\n",
              "      <td>...</td>\n",
              "      <td>0.195652</td>\n",
              "      <td>0.354545</td>\n",
              "      <td>0.326531</td>\n",
              "      <td>0.351852</td>\n",
              "      <td>0.60</td>\n",
              "      <td>0.214286</td>\n",
              "      <td>0.541667</td>\n",
              "      <td>0.46</td>\n",
              "      <td>0.696078</td>\n",
              "      <td>guard</td>\n",
              "    </tr>\n",
              "    <tr>\n",
              "      <th>300</th>\n",
              "      <td>0.851852</td>\n",
              "      <td>0.341463</td>\n",
              "      <td>0.447059</td>\n",
              "      <td>0.307018</td>\n",
              "      <td>0.261468</td>\n",
              "      <td>0.616</td>\n",
              "      <td>0.066667</td>\n",
              "      <td>0.068376</td>\n",
              "      <td>0.351</td>\n",
              "      <td>0.336842</td>\n",
              "      <td>...</td>\n",
              "      <td>0.347826</td>\n",
              "      <td>0.263636</td>\n",
              "      <td>0.306122</td>\n",
              "      <td>0.055556</td>\n",
              "      <td>0.20</td>\n",
              "      <td>0.285714</td>\n",
              "      <td>0.166667</td>\n",
              "      <td>0.44</td>\n",
              "      <td>0.303922</td>\n",
              "      <td>non-guard</td>\n",
              "    </tr>\n",
              "    <tr>\n",
              "      <th>400</th>\n",
              "      <td>0.037037</td>\n",
              "      <td>0.000000</td>\n",
              "      <td>0.277647</td>\n",
              "      <td>0.157895</td>\n",
              "      <td>0.174312</td>\n",
              "      <td>0.467</td>\n",
              "      <td>0.066667</td>\n",
              "      <td>0.085470</td>\n",
              "      <td>0.250</td>\n",
              "      <td>0.157895</td>\n",
              "      <td>...</td>\n",
              "      <td>0.065217</td>\n",
              "      <td>0.209091</td>\n",
              "      <td>0.170068</td>\n",
              "      <td>0.092593</td>\n",
              "      <td>0.20</td>\n",
              "      <td>0.000000</td>\n",
              "      <td>0.062500</td>\n",
              "      <td>0.40</td>\n",
              "      <td>0.222222</td>\n",
              "      <td>guard</td>\n",
              "    </tr>\n",
              "    <tr>\n",
              "      <th>500</th>\n",
              "      <td>0.197531</td>\n",
              "      <td>0.036585</td>\n",
              "      <td>0.261176</td>\n",
              "      <td>0.122807</td>\n",
              "      <td>0.165138</td>\n",
              "      <td>0.393</td>\n",
              "      <td>0.111111</td>\n",
              "      <td>0.136752</td>\n",
              "      <td>0.333</td>\n",
              "      <td>0.094737</td>\n",
              "      <td>...</td>\n",
              "      <td>0.173913</td>\n",
              "      <td>0.109091</td>\n",
              "      <td>0.129252</td>\n",
              "      <td>0.027778</td>\n",
              "      <td>0.04</td>\n",
              "      <td>0.071429</td>\n",
              "      <td>0.083333</td>\n",
              "      <td>0.30</td>\n",
              "      <td>0.114379</td>\n",
              "      <td>non-guard</td>\n",
              "    </tr>\n",
              "    <tr>\n",
              "      <th>600</th>\n",
              "      <td>0.876543</td>\n",
              "      <td>0.719512</td>\n",
              "      <td>0.640000</td>\n",
              "      <td>0.508772</td>\n",
              "      <td>0.555046</td>\n",
              "      <td>0.479</td>\n",
              "      <td>0.400000</td>\n",
              "      <td>0.401709</td>\n",
              "      <td>0.393</td>\n",
              "      <td>0.410526</td>\n",
              "      <td>...</td>\n",
              "      <td>0.543478</td>\n",
              "      <td>0.600000</td>\n",
              "      <td>0.619048</td>\n",
              "      <td>0.111111</td>\n",
              "      <td>0.28</td>\n",
              "      <td>0.250000</td>\n",
              "      <td>0.270833</td>\n",
              "      <td>0.48</td>\n",
              "      <td>0.477124</td>\n",
              "      <td>non-guard</td>\n",
              "    </tr>\n",
              "    <tr>\n",
              "      <th>700</th>\n",
              "      <td>0.481481</td>\n",
              "      <td>0.012195</td>\n",
              "      <td>0.414118</td>\n",
              "      <td>0.315789</td>\n",
              "      <td>0.357798</td>\n",
              "      <td>0.458</td>\n",
              "      <td>0.155556</td>\n",
              "      <td>0.188034</td>\n",
              "      <td>0.310</td>\n",
              "      <td>0.305263</td>\n",
              "      <td>...</td>\n",
              "      <td>0.065217</td>\n",
              "      <td>0.227273</td>\n",
              "      <td>0.190476</td>\n",
              "      <td>0.361111</td>\n",
              "      <td>0.24</td>\n",
              "      <td>0.035714</td>\n",
              "      <td>0.354167</td>\n",
              "      <td>0.44</td>\n",
              "      <td>0.303922</td>\n",
              "      <td>guard</td>\n",
              "    </tr>\n",
              "    <tr>\n",
              "      <th>800</th>\n",
              "      <td>0.049383</td>\n",
              "      <td>0.000000</td>\n",
              "      <td>0.065882</td>\n",
              "      <td>0.035088</td>\n",
              "      <td>0.027523</td>\n",
              "      <td>0.667</td>\n",
              "      <td>0.044444</td>\n",
              "      <td>0.034188</td>\n",
              "      <td>0.500</td>\n",
              "      <td>0.021053</td>\n",
              "      <td>...</td>\n",
              "      <td>0.000000</td>\n",
              "      <td>0.000000</td>\n",
              "      <td>0.000000</td>\n",
              "      <td>0.055556</td>\n",
              "      <td>0.00</td>\n",
              "      <td>0.000000</td>\n",
              "      <td>0.041667</td>\n",
              "      <td>0.04</td>\n",
              "      <td>0.032680</td>\n",
              "      <td>guard</td>\n",
              "    </tr>\n",
              "  </tbody>\n",
              "</table>\n",
              "<p>9 rows × 26 columns</p>\n",
              "</div>\n",
              "      <button class=\"colab-df-convert\" onclick=\"convertToInteractive('df-2b0bc29e-db4a-4203-95c0-bf0128b2f78f')\"\n",
              "              title=\"Convert this dataframe to an interactive table.\"\n",
              "              style=\"display:none;\">\n",
              "        \n",
              "  <svg xmlns=\"http://www.w3.org/2000/svg\" height=\"24px\"viewBox=\"0 0 24 24\"\n",
              "       width=\"24px\">\n",
              "    <path d=\"M0 0h24v24H0V0z\" fill=\"none\"/>\n",
              "    <path d=\"M18.56 5.44l.94 2.06.94-2.06 2.06-.94-2.06-.94-.94-2.06-.94 2.06-2.06.94zm-11 1L8.5 8.5l.94-2.06 2.06-.94-2.06-.94L8.5 2.5l-.94 2.06-2.06.94zm10 10l.94 2.06.94-2.06 2.06-.94-2.06-.94-.94-2.06-.94 2.06-2.06.94z\"/><path d=\"M17.41 7.96l-1.37-1.37c-.4-.4-.92-.59-1.43-.59-.52 0-1.04.2-1.43.59L10.3 9.45l-7.72 7.72c-.78.78-.78 2.05 0 2.83L4 21.41c.39.39.9.59 1.41.59.51 0 1.02-.2 1.41-.59l7.78-7.78 2.81-2.81c.8-.78.8-2.07 0-2.86zM5.41 20L4 18.59l7.72-7.72 1.47 1.35L5.41 20z\"/>\n",
              "  </svg>\n",
              "      </button>\n",
              "      \n",
              "  <style>\n",
              "    .colab-df-container {\n",
              "      display:flex;\n",
              "      flex-wrap:wrap;\n",
              "      gap: 12px;\n",
              "    }\n",
              "\n",
              "    .colab-df-convert {\n",
              "      background-color: #E8F0FE;\n",
              "      border: none;\n",
              "      border-radius: 50%;\n",
              "      cursor: pointer;\n",
              "      display: none;\n",
              "      fill: #1967D2;\n",
              "      height: 32px;\n",
              "      padding: 0 0 0 0;\n",
              "      width: 32px;\n",
              "    }\n",
              "\n",
              "    .colab-df-convert:hover {\n",
              "      background-color: #E2EBFA;\n",
              "      box-shadow: 0px 1px 2px rgba(60, 64, 67, 0.3), 0px 1px 3px 1px rgba(60, 64, 67, 0.15);\n",
              "      fill: #174EA6;\n",
              "    }\n",
              "\n",
              "    [theme=dark] .colab-df-convert {\n",
              "      background-color: #3B4455;\n",
              "      fill: #D2E3FC;\n",
              "    }\n",
              "\n",
              "    [theme=dark] .colab-df-convert:hover {\n",
              "      background-color: #434B5C;\n",
              "      box-shadow: 0px 1px 3px 1px rgba(0, 0, 0, 0.15);\n",
              "      filter: drop-shadow(0px 1px 2px rgba(0, 0, 0, 0.3));\n",
              "      fill: #FFFFFF;\n",
              "    }\n",
              "  </style>\n",
              "\n",
              "      <script>\n",
              "        const buttonEl =\n",
              "          document.querySelector('#df-2b0bc29e-db4a-4203-95c0-bf0128b2f78f button.colab-df-convert');\n",
              "        buttonEl.style.display =\n",
              "          google.colab.kernel.accessAllowed ? 'block' : 'none';\n",
              "\n",
              "        async function convertToInteractive(key) {\n",
              "          const element = document.querySelector('#df-2b0bc29e-db4a-4203-95c0-bf0128b2f78f');\n",
              "          const dataTable =\n",
              "            await google.colab.kernel.invokeFunction('convertToInteractive',\n",
              "                                                     [key], {});\n",
              "          if (!dataTable) return;\n",
              "\n",
              "          const docLinkHtml = 'Like what you see? Visit the ' +\n",
              "            '<a target=\"_blank\" href=https://colab.research.google.com/notebooks/data_table.ipynb>data table notebook</a>'\n",
              "            + ' to learn more about interactive tables.';\n",
              "          element.innerHTML = '';\n",
              "          dataTable['output_type'] = 'display_data';\n",
              "          await google.colab.output.renderOutput(dataTable, element);\n",
              "          const docLink = document.createElement('div');\n",
              "          docLink.innerHTML = docLinkHtml;\n",
              "          element.appendChild(docLink);\n",
              "        }\n",
              "      </script>\n",
              "    </div>\n",
              "  </div>\n",
              "  "
            ]
          },
          "metadata": {},
          "execution_count": 13
        }
      ]
    },
    {
      "cell_type": "code",
      "source": [
        "df = df_scaled.copy()\n",
        "df.Pos.value_counts()"
      ],
      "metadata": {
        "colab": {
          "base_uri": "https://localhost:8080/"
        },
        "id": "zRDF3P7rwzC8",
        "outputId": "d13f6334-d7da-4a7c-eccf-b2a9f83556c5"
      },
      "execution_count": null,
      "outputs": [
        {
          "output_type": "execute_result",
          "data": {
            "text/plain": [
              "non-guard    440\n",
              "guard        354\n",
              "SG-SF          5\n",
              "SF-SG          5\n",
              "SG-PG          4\n",
              "C-PF           2\n",
              "PF-SF          1\n",
              "PG-SG          1\n",
              "Name: Pos, dtype: int64"
            ]
          },
          "metadata": {},
          "execution_count": 14
        }
      ]
    },
    {
      "cell_type": "code",
      "source": [
        "mapping2 = {'SG-PG': 'guard', 'C-PF': 'non-guard', 'PF-SF': 'non-guard', 'PG-SG': 'guard'}\n",
        "df = df.replace({'Pos': mapping2})\n",
        "df = df.loc[(df['Pos']!='SG-SF') & (df['Pos']!='SF-SG')]\n",
        "print(df.shape)\n",
        "df.Pos.value_counts()"
      ],
      "metadata": {
        "colab": {
          "base_uri": "https://localhost:8080/"
        },
        "id": "1lbMYZ-KwzG_",
        "outputId": "fe197ffe-20b1-423a-d252-7463ded5400e"
      },
      "execution_count": null,
      "outputs": [
        {
          "output_type": "stream",
          "name": "stdout",
          "text": [
            "(802, 26)\n"
          ]
        },
        {
          "output_type": "execute_result",
          "data": {
            "text/plain": [
              "non-guard    443\n",
              "guard        359\n",
              "Name: Pos, dtype: int64"
            ]
          },
          "metadata": {},
          "execution_count": 15
        }
      ]
    },
    {
      "cell_type": "code",
      "source": [
        "# Now we are all set. We can continue to select the features we'll use.\n",
        "X = df.iloc[:,0:25]\n",
        "y = df.iloc[:,25]\n",
        "X.head()"
      ],
      "metadata": {
        "colab": {
          "base_uri": "https://localhost:8080/",
          "height": 299
        },
        "id": "H1vz5RilwzKi",
        "outputId": "fa64ee9d-379c-437c-a7ac-78f3884a957d"
      },
      "execution_count": null,
      "outputs": [
        {
          "output_type": "execute_result",
          "data": {
            "text/plain": [
              "          G        GS        MP        FG       FGA    FG%        3P  \\\n",
              "0  0.888889  0.341463  0.531765  0.315789  0.380734  0.439  0.177778   \n",
              "1  0.925926  0.914634  0.595294  0.245614  0.233945  0.547  0.000000   \n",
              "2  0.679012  0.682927  0.743529  0.640351  0.596330  0.557  0.000000   \n",
              "3  0.382716  0.000000  0.242353  0.149123  0.188073  0.402  0.044444   \n",
              "4  0.567901  0.146341  0.501176  0.473684  0.444954  0.550  0.066667   \n",
              "\n",
              "        3PA    3P%        2P  ...    FT%       ORB       DRB       TRB  \\\n",
              "0  0.179487  0.359  0.305263  ...  0.595  0.434783  0.409091  0.442177   \n",
              "1  0.000000  0.000  0.294737  ...  0.543  1.000000  0.490909  0.680272   \n",
              "2  0.008547  0.000  0.768421  ...  0.753  0.521739  0.690909  0.687075   \n",
              "3  0.128205  0.125  0.157895  ...  0.625  0.217391  0.154545  0.183673   \n",
              "4  0.085470  0.304  0.536842  ...  0.873  0.347826  0.354545  0.374150   \n",
              "\n",
              "        AST   STL       BLK       TOV    PF       PTS  \n",
              "0  0.101852  0.20  0.214286  0.250000  0.42  0.297386  \n",
              "1  0.314815  0.36  0.285714  0.312500  0.40  0.225490  \n",
              "2  0.314815  0.56  0.285714  0.541667  0.62  0.624183  \n",
              "3  0.064815  0.08  0.107143  0.104167  0.22  0.133987  \n",
              "4  0.083333  0.12  0.357143  0.187500  0.34  0.421569  \n",
              "\n",
              "[5 rows x 25 columns]"
            ],
            "text/html": [
              "\n",
              "  <div id=\"df-8fd493bc-9e6a-4457-8f39-5b503cdd5366\">\n",
              "    <div class=\"colab-df-container\">\n",
              "      <div>\n",
              "<style scoped>\n",
              "    .dataframe tbody tr th:only-of-type {\n",
              "        vertical-align: middle;\n",
              "    }\n",
              "\n",
              "    .dataframe tbody tr th {\n",
              "        vertical-align: top;\n",
              "    }\n",
              "\n",
              "    .dataframe thead th {\n",
              "        text-align: right;\n",
              "    }\n",
              "</style>\n",
              "<table border=\"1\" class=\"dataframe\">\n",
              "  <thead>\n",
              "    <tr style=\"text-align: right;\">\n",
              "      <th></th>\n",
              "      <th>G</th>\n",
              "      <th>GS</th>\n",
              "      <th>MP</th>\n",
              "      <th>FG</th>\n",
              "      <th>FGA</th>\n",
              "      <th>FG%</th>\n",
              "      <th>3P</th>\n",
              "      <th>3PA</th>\n",
              "      <th>3P%</th>\n",
              "      <th>2P</th>\n",
              "      <th>...</th>\n",
              "      <th>FT%</th>\n",
              "      <th>ORB</th>\n",
              "      <th>DRB</th>\n",
              "      <th>TRB</th>\n",
              "      <th>AST</th>\n",
              "      <th>STL</th>\n",
              "      <th>BLK</th>\n",
              "      <th>TOV</th>\n",
              "      <th>PF</th>\n",
              "      <th>PTS</th>\n",
              "    </tr>\n",
              "  </thead>\n",
              "  <tbody>\n",
              "    <tr>\n",
              "      <th>0</th>\n",
              "      <td>0.888889</td>\n",
              "      <td>0.341463</td>\n",
              "      <td>0.531765</td>\n",
              "      <td>0.315789</td>\n",
              "      <td>0.380734</td>\n",
              "      <td>0.439</td>\n",
              "      <td>0.177778</td>\n",
              "      <td>0.179487</td>\n",
              "      <td>0.359</td>\n",
              "      <td>0.305263</td>\n",
              "      <td>...</td>\n",
              "      <td>0.595</td>\n",
              "      <td>0.434783</td>\n",
              "      <td>0.409091</td>\n",
              "      <td>0.442177</td>\n",
              "      <td>0.101852</td>\n",
              "      <td>0.20</td>\n",
              "      <td>0.214286</td>\n",
              "      <td>0.250000</td>\n",
              "      <td>0.42</td>\n",
              "      <td>0.297386</td>\n",
              "    </tr>\n",
              "    <tr>\n",
              "      <th>1</th>\n",
              "      <td>0.925926</td>\n",
              "      <td>0.914634</td>\n",
              "      <td>0.595294</td>\n",
              "      <td>0.245614</td>\n",
              "      <td>0.233945</td>\n",
              "      <td>0.547</td>\n",
              "      <td>0.000000</td>\n",
              "      <td>0.000000</td>\n",
              "      <td>0.000</td>\n",
              "      <td>0.294737</td>\n",
              "      <td>...</td>\n",
              "      <td>0.543</td>\n",
              "      <td>1.000000</td>\n",
              "      <td>0.490909</td>\n",
              "      <td>0.680272</td>\n",
              "      <td>0.314815</td>\n",
              "      <td>0.36</td>\n",
              "      <td>0.285714</td>\n",
              "      <td>0.312500</td>\n",
              "      <td>0.40</td>\n",
              "      <td>0.225490</td>\n",
              "    </tr>\n",
              "    <tr>\n",
              "      <th>2</th>\n",
              "      <td>0.679012</td>\n",
              "      <td>0.682927</td>\n",
              "      <td>0.743529</td>\n",
              "      <td>0.640351</td>\n",
              "      <td>0.596330</td>\n",
              "      <td>0.557</td>\n",
              "      <td>0.000000</td>\n",
              "      <td>0.008547</td>\n",
              "      <td>0.000</td>\n",
              "      <td>0.768421</td>\n",
              "      <td>...</td>\n",
              "      <td>0.753</td>\n",
              "      <td>0.521739</td>\n",
              "      <td>0.690909</td>\n",
              "      <td>0.687075</td>\n",
              "      <td>0.314815</td>\n",
              "      <td>0.56</td>\n",
              "      <td>0.285714</td>\n",
              "      <td>0.541667</td>\n",
              "      <td>0.62</td>\n",
              "      <td>0.624183</td>\n",
              "    </tr>\n",
              "    <tr>\n",
              "      <th>3</th>\n",
              "      <td>0.382716</td>\n",
              "      <td>0.000000</td>\n",
              "      <td>0.242353</td>\n",
              "      <td>0.149123</td>\n",
              "      <td>0.188073</td>\n",
              "      <td>0.402</td>\n",
              "      <td>0.044444</td>\n",
              "      <td>0.128205</td>\n",
              "      <td>0.125</td>\n",
              "      <td>0.157895</td>\n",
              "      <td>...</td>\n",
              "      <td>0.625</td>\n",
              "      <td>0.217391</td>\n",
              "      <td>0.154545</td>\n",
              "      <td>0.183673</td>\n",
              "      <td>0.064815</td>\n",
              "      <td>0.08</td>\n",
              "      <td>0.107143</td>\n",
              "      <td>0.104167</td>\n",
              "      <td>0.22</td>\n",
              "      <td>0.133987</td>\n",
              "    </tr>\n",
              "    <tr>\n",
              "      <th>4</th>\n",
              "      <td>0.567901</td>\n",
              "      <td>0.146341</td>\n",
              "      <td>0.501176</td>\n",
              "      <td>0.473684</td>\n",
              "      <td>0.444954</td>\n",
              "      <td>0.550</td>\n",
              "      <td>0.066667</td>\n",
              "      <td>0.085470</td>\n",
              "      <td>0.304</td>\n",
              "      <td>0.536842</td>\n",
              "      <td>...</td>\n",
              "      <td>0.873</td>\n",
              "      <td>0.347826</td>\n",
              "      <td>0.354545</td>\n",
              "      <td>0.374150</td>\n",
              "      <td>0.083333</td>\n",
              "      <td>0.12</td>\n",
              "      <td>0.357143</td>\n",
              "      <td>0.187500</td>\n",
              "      <td>0.34</td>\n",
              "      <td>0.421569</td>\n",
              "    </tr>\n",
              "  </tbody>\n",
              "</table>\n",
              "<p>5 rows × 25 columns</p>\n",
              "</div>\n",
              "      <button class=\"colab-df-convert\" onclick=\"convertToInteractive('df-8fd493bc-9e6a-4457-8f39-5b503cdd5366')\"\n",
              "              title=\"Convert this dataframe to an interactive table.\"\n",
              "              style=\"display:none;\">\n",
              "        \n",
              "  <svg xmlns=\"http://www.w3.org/2000/svg\" height=\"24px\"viewBox=\"0 0 24 24\"\n",
              "       width=\"24px\">\n",
              "    <path d=\"M0 0h24v24H0V0z\" fill=\"none\"/>\n",
              "    <path d=\"M18.56 5.44l.94 2.06.94-2.06 2.06-.94-2.06-.94-.94-2.06-.94 2.06-2.06.94zm-11 1L8.5 8.5l.94-2.06 2.06-.94-2.06-.94L8.5 2.5l-.94 2.06-2.06.94zm10 10l.94 2.06.94-2.06 2.06-.94-2.06-.94-.94-2.06-.94 2.06-2.06.94z\"/><path d=\"M17.41 7.96l-1.37-1.37c-.4-.4-.92-.59-1.43-.59-.52 0-1.04.2-1.43.59L10.3 9.45l-7.72 7.72c-.78.78-.78 2.05 0 2.83L4 21.41c.39.39.9.59 1.41.59.51 0 1.02-.2 1.41-.59l7.78-7.78 2.81-2.81c.8-.78.8-2.07 0-2.86zM5.41 20L4 18.59l7.72-7.72 1.47 1.35L5.41 20z\"/>\n",
              "  </svg>\n",
              "      </button>\n",
              "      \n",
              "  <style>\n",
              "    .colab-df-container {\n",
              "      display:flex;\n",
              "      flex-wrap:wrap;\n",
              "      gap: 12px;\n",
              "    }\n",
              "\n",
              "    .colab-df-convert {\n",
              "      background-color: #E8F0FE;\n",
              "      border: none;\n",
              "      border-radius: 50%;\n",
              "      cursor: pointer;\n",
              "      display: none;\n",
              "      fill: #1967D2;\n",
              "      height: 32px;\n",
              "      padding: 0 0 0 0;\n",
              "      width: 32px;\n",
              "    }\n",
              "\n",
              "    .colab-df-convert:hover {\n",
              "      background-color: #E2EBFA;\n",
              "      box-shadow: 0px 1px 2px rgba(60, 64, 67, 0.3), 0px 1px 3px 1px rgba(60, 64, 67, 0.15);\n",
              "      fill: #174EA6;\n",
              "    }\n",
              "\n",
              "    [theme=dark] .colab-df-convert {\n",
              "      background-color: #3B4455;\n",
              "      fill: #D2E3FC;\n",
              "    }\n",
              "\n",
              "    [theme=dark] .colab-df-convert:hover {\n",
              "      background-color: #434B5C;\n",
              "      box-shadow: 0px 1px 3px 1px rgba(0, 0, 0, 0.15);\n",
              "      filter: drop-shadow(0px 1px 2px rgba(0, 0, 0, 0.3));\n",
              "      fill: #FFFFFF;\n",
              "    }\n",
              "  </style>\n",
              "\n",
              "      <script>\n",
              "        const buttonEl =\n",
              "          document.querySelector('#df-8fd493bc-9e6a-4457-8f39-5b503cdd5366 button.colab-df-convert');\n",
              "        buttonEl.style.display =\n",
              "          google.colab.kernel.accessAllowed ? 'block' : 'none';\n",
              "\n",
              "        async function convertToInteractive(key) {\n",
              "          const element = document.querySelector('#df-8fd493bc-9e6a-4457-8f39-5b503cdd5366');\n",
              "          const dataTable =\n",
              "            await google.colab.kernel.invokeFunction('convertToInteractive',\n",
              "                                                     [key], {});\n",
              "          if (!dataTable) return;\n",
              "\n",
              "          const docLinkHtml = 'Like what you see? Visit the ' +\n",
              "            '<a target=\"_blank\" href=https://colab.research.google.com/notebooks/data_table.ipynb>data table notebook</a>'\n",
              "            + ' to learn more about interactive tables.';\n",
              "          element.innerHTML = '';\n",
              "          dataTable['output_type'] = 'display_data';\n",
              "          await google.colab.output.renderOutput(dataTable, element);\n",
              "          const docLink = document.createElement('div');\n",
              "          docLink.innerHTML = docLinkHtml;\n",
              "          element.appendChild(docLink);\n",
              "        }\n",
              "      </script>\n",
              "    </div>\n",
              "  </div>\n",
              "  "
            ]
          },
          "metadata": {},
          "execution_count": 16
        }
      ]
    },
    {
      "cell_type": "code",
      "source": [
        "from sklearn.feature_selection import SelectKBest, chi2\n",
        "select = SelectKBest(chi2, k=10)\n",
        "z = select.fit(X, y)\n",
        "X_select = pd.DataFrame({'Features': X.columns, 'Score': z.scores_})\n",
        "X_select = X_select.sort_values(by='Score', ascending=False)\n",
        "X_select = X_select.iloc[:10]\n",
        "X_select"
      ],
      "metadata": {
        "colab": {
          "base_uri": "https://localhost:8080/",
          "height": 363
        },
        "id": "DuiyCLufwzNv",
        "outputId": "c216a209-37b3-4499-8c67-318abed9ac46"
      },
      "execution_count": null,
      "outputs": [
        {
          "output_type": "execute_result",
          "data": {
            "text/plain": [
              "   Features      Score\n",
              "16      ORB  25.256198\n",
              "19      AST  14.902518\n",
              "21      BLK  12.021205\n",
              "18      TRB  10.642278\n",
              "7       3PA  10.058571\n",
              "6        3P   9.640373\n",
              "17      DRB   6.152846\n",
              "20      STL   2.427321\n",
              "22      TOV   2.255186\n",
              "5       FG%   1.661638"
            ],
            "text/html": [
              "\n",
              "  <div id=\"df-8f27045b-66ed-4c45-b793-e51440684ab5\">\n",
              "    <div class=\"colab-df-container\">\n",
              "      <div>\n",
              "<style scoped>\n",
              "    .dataframe tbody tr th:only-of-type {\n",
              "        vertical-align: middle;\n",
              "    }\n",
              "\n",
              "    .dataframe tbody tr th {\n",
              "        vertical-align: top;\n",
              "    }\n",
              "\n",
              "    .dataframe thead th {\n",
              "        text-align: right;\n",
              "    }\n",
              "</style>\n",
              "<table border=\"1\" class=\"dataframe\">\n",
              "  <thead>\n",
              "    <tr style=\"text-align: right;\">\n",
              "      <th></th>\n",
              "      <th>Features</th>\n",
              "      <th>Score</th>\n",
              "    </tr>\n",
              "  </thead>\n",
              "  <tbody>\n",
              "    <tr>\n",
              "      <th>16</th>\n",
              "      <td>ORB</td>\n",
              "      <td>25.256198</td>\n",
              "    </tr>\n",
              "    <tr>\n",
              "      <th>19</th>\n",
              "      <td>AST</td>\n",
              "      <td>14.902518</td>\n",
              "    </tr>\n",
              "    <tr>\n",
              "      <th>21</th>\n",
              "      <td>BLK</td>\n",
              "      <td>12.021205</td>\n",
              "    </tr>\n",
              "    <tr>\n",
              "      <th>18</th>\n",
              "      <td>TRB</td>\n",
              "      <td>10.642278</td>\n",
              "    </tr>\n",
              "    <tr>\n",
              "      <th>7</th>\n",
              "      <td>3PA</td>\n",
              "      <td>10.058571</td>\n",
              "    </tr>\n",
              "    <tr>\n",
              "      <th>6</th>\n",
              "      <td>3P</td>\n",
              "      <td>9.640373</td>\n",
              "    </tr>\n",
              "    <tr>\n",
              "      <th>17</th>\n",
              "      <td>DRB</td>\n",
              "      <td>6.152846</td>\n",
              "    </tr>\n",
              "    <tr>\n",
              "      <th>20</th>\n",
              "      <td>STL</td>\n",
              "      <td>2.427321</td>\n",
              "    </tr>\n",
              "    <tr>\n",
              "      <th>22</th>\n",
              "      <td>TOV</td>\n",
              "      <td>2.255186</td>\n",
              "    </tr>\n",
              "    <tr>\n",
              "      <th>5</th>\n",
              "      <td>FG%</td>\n",
              "      <td>1.661638</td>\n",
              "    </tr>\n",
              "  </tbody>\n",
              "</table>\n",
              "</div>\n",
              "      <button class=\"colab-df-convert\" onclick=\"convertToInteractive('df-8f27045b-66ed-4c45-b793-e51440684ab5')\"\n",
              "              title=\"Convert this dataframe to an interactive table.\"\n",
              "              style=\"display:none;\">\n",
              "        \n",
              "  <svg xmlns=\"http://www.w3.org/2000/svg\" height=\"24px\"viewBox=\"0 0 24 24\"\n",
              "       width=\"24px\">\n",
              "    <path d=\"M0 0h24v24H0V0z\" fill=\"none\"/>\n",
              "    <path d=\"M18.56 5.44l.94 2.06.94-2.06 2.06-.94-2.06-.94-.94-2.06-.94 2.06-2.06.94zm-11 1L8.5 8.5l.94-2.06 2.06-.94-2.06-.94L8.5 2.5l-.94 2.06-2.06.94zm10 10l.94 2.06.94-2.06 2.06-.94-2.06-.94-.94-2.06-.94 2.06-2.06.94z\"/><path d=\"M17.41 7.96l-1.37-1.37c-.4-.4-.92-.59-1.43-.59-.52 0-1.04.2-1.43.59L10.3 9.45l-7.72 7.72c-.78.78-.78 2.05 0 2.83L4 21.41c.39.39.9.59 1.41.59.51 0 1.02-.2 1.41-.59l7.78-7.78 2.81-2.81c.8-.78.8-2.07 0-2.86zM5.41 20L4 18.59l7.72-7.72 1.47 1.35L5.41 20z\"/>\n",
              "  </svg>\n",
              "      </button>\n",
              "      \n",
              "  <style>\n",
              "    .colab-df-container {\n",
              "      display:flex;\n",
              "      flex-wrap:wrap;\n",
              "      gap: 12px;\n",
              "    }\n",
              "\n",
              "    .colab-df-convert {\n",
              "      background-color: #E8F0FE;\n",
              "      border: none;\n",
              "      border-radius: 50%;\n",
              "      cursor: pointer;\n",
              "      display: none;\n",
              "      fill: #1967D2;\n",
              "      height: 32px;\n",
              "      padding: 0 0 0 0;\n",
              "      width: 32px;\n",
              "    }\n",
              "\n",
              "    .colab-df-convert:hover {\n",
              "      background-color: #E2EBFA;\n",
              "      box-shadow: 0px 1px 2px rgba(60, 64, 67, 0.3), 0px 1px 3px 1px rgba(60, 64, 67, 0.15);\n",
              "      fill: #174EA6;\n",
              "    }\n",
              "\n",
              "    [theme=dark] .colab-df-convert {\n",
              "      background-color: #3B4455;\n",
              "      fill: #D2E3FC;\n",
              "    }\n",
              "\n",
              "    [theme=dark] .colab-df-convert:hover {\n",
              "      background-color: #434B5C;\n",
              "      box-shadow: 0px 1px 3px 1px rgba(0, 0, 0, 0.15);\n",
              "      filter: drop-shadow(0px 1px 2px rgba(0, 0, 0, 0.3));\n",
              "      fill: #FFFFFF;\n",
              "    }\n",
              "  </style>\n",
              "\n",
              "      <script>\n",
              "        const buttonEl =\n",
              "          document.querySelector('#df-8f27045b-66ed-4c45-b793-e51440684ab5 button.colab-df-convert');\n",
              "        buttonEl.style.display =\n",
              "          google.colab.kernel.accessAllowed ? 'block' : 'none';\n",
              "\n",
              "        async function convertToInteractive(key) {\n",
              "          const element = document.querySelector('#df-8f27045b-66ed-4c45-b793-e51440684ab5');\n",
              "          const dataTable =\n",
              "            await google.colab.kernel.invokeFunction('convertToInteractive',\n",
              "                                                     [key], {});\n",
              "          if (!dataTable) return;\n",
              "\n",
              "          const docLinkHtml = 'Like what you see? Visit the ' +\n",
              "            '<a target=\"_blank\" href=https://colab.research.google.com/notebooks/data_table.ipynb>data table notebook</a>'\n",
              "            + ' to learn more about interactive tables.';\n",
              "          element.innerHTML = '';\n",
              "          dataTable['output_type'] = 'display_data';\n",
              "          await google.colab.output.renderOutput(dataTable, element);\n",
              "          const docLink = document.createElement('div');\n",
              "          docLink.innerHTML = docLinkHtml;\n",
              "          element.appendChild(docLink);\n",
              "        }\n",
              "      </script>\n",
              "    </div>\n",
              "  </div>\n",
              "  "
            ]
          },
          "metadata": {},
          "execution_count": 17
        }
      ]
    },
    {
      "cell_type": "code",
      "source": [
        "feature_select = X_select.Features.to_list()\n",
        "X = X[feature_select]\n",
        "X.head()"
      ],
      "metadata": {
        "colab": {
          "base_uri": "https://localhost:8080/",
          "height": 206
        },
        "id": "PCVMxOe_wzRB",
        "outputId": "0e826a01-e71b-4acb-b6b1-c2a55bf659a6"
      },
      "execution_count": null,
      "outputs": [
        {
          "output_type": "execute_result",
          "data": {
            "text/plain": [
              "        ORB       AST       BLK       TRB       3PA        3P       DRB   STL  \\\n",
              "0  0.434783  0.101852  0.214286  0.442177  0.179487  0.177778  0.409091  0.20   \n",
              "1  1.000000  0.314815  0.285714  0.680272  0.000000  0.000000  0.490909  0.36   \n",
              "2  0.521739  0.314815  0.285714  0.687075  0.008547  0.000000  0.690909  0.56   \n",
              "3  0.217391  0.064815  0.107143  0.183673  0.128205  0.044444  0.154545  0.08   \n",
              "4  0.347826  0.083333  0.357143  0.374150  0.085470  0.066667  0.354545  0.12   \n",
              "\n",
              "        TOV    FG%  \n",
              "0  0.250000  0.439  \n",
              "1  0.312500  0.547  \n",
              "2  0.541667  0.557  \n",
              "3  0.104167  0.402  \n",
              "4  0.187500  0.550  "
            ],
            "text/html": [
              "\n",
              "  <div id=\"df-b6028c52-48d0-4980-bb7a-d6a18bc80980\">\n",
              "    <div class=\"colab-df-container\">\n",
              "      <div>\n",
              "<style scoped>\n",
              "    .dataframe tbody tr th:only-of-type {\n",
              "        vertical-align: middle;\n",
              "    }\n",
              "\n",
              "    .dataframe tbody tr th {\n",
              "        vertical-align: top;\n",
              "    }\n",
              "\n",
              "    .dataframe thead th {\n",
              "        text-align: right;\n",
              "    }\n",
              "</style>\n",
              "<table border=\"1\" class=\"dataframe\">\n",
              "  <thead>\n",
              "    <tr style=\"text-align: right;\">\n",
              "      <th></th>\n",
              "      <th>ORB</th>\n",
              "      <th>AST</th>\n",
              "      <th>BLK</th>\n",
              "      <th>TRB</th>\n",
              "      <th>3PA</th>\n",
              "      <th>3P</th>\n",
              "      <th>DRB</th>\n",
              "      <th>STL</th>\n",
              "      <th>TOV</th>\n",
              "      <th>FG%</th>\n",
              "    </tr>\n",
              "  </thead>\n",
              "  <tbody>\n",
              "    <tr>\n",
              "      <th>0</th>\n",
              "      <td>0.434783</td>\n",
              "      <td>0.101852</td>\n",
              "      <td>0.214286</td>\n",
              "      <td>0.442177</td>\n",
              "      <td>0.179487</td>\n",
              "      <td>0.177778</td>\n",
              "      <td>0.409091</td>\n",
              "      <td>0.20</td>\n",
              "      <td>0.250000</td>\n",
              "      <td>0.439</td>\n",
              "    </tr>\n",
              "    <tr>\n",
              "      <th>1</th>\n",
              "      <td>1.000000</td>\n",
              "      <td>0.314815</td>\n",
              "      <td>0.285714</td>\n",
              "      <td>0.680272</td>\n",
              "      <td>0.000000</td>\n",
              "      <td>0.000000</td>\n",
              "      <td>0.490909</td>\n",
              "      <td>0.36</td>\n",
              "      <td>0.312500</td>\n",
              "      <td>0.547</td>\n",
              "    </tr>\n",
              "    <tr>\n",
              "      <th>2</th>\n",
              "      <td>0.521739</td>\n",
              "      <td>0.314815</td>\n",
              "      <td>0.285714</td>\n",
              "      <td>0.687075</td>\n",
              "      <td>0.008547</td>\n",
              "      <td>0.000000</td>\n",
              "      <td>0.690909</td>\n",
              "      <td>0.56</td>\n",
              "      <td>0.541667</td>\n",
              "      <td>0.557</td>\n",
              "    </tr>\n",
              "    <tr>\n",
              "      <th>3</th>\n",
              "      <td>0.217391</td>\n",
              "      <td>0.064815</td>\n",
              "      <td>0.107143</td>\n",
              "      <td>0.183673</td>\n",
              "      <td>0.128205</td>\n",
              "      <td>0.044444</td>\n",
              "      <td>0.154545</td>\n",
              "      <td>0.08</td>\n",
              "      <td>0.104167</td>\n",
              "      <td>0.402</td>\n",
              "    </tr>\n",
              "    <tr>\n",
              "      <th>4</th>\n",
              "      <td>0.347826</td>\n",
              "      <td>0.083333</td>\n",
              "      <td>0.357143</td>\n",
              "      <td>0.374150</td>\n",
              "      <td>0.085470</td>\n",
              "      <td>0.066667</td>\n",
              "      <td>0.354545</td>\n",
              "      <td>0.12</td>\n",
              "      <td>0.187500</td>\n",
              "      <td>0.550</td>\n",
              "    </tr>\n",
              "  </tbody>\n",
              "</table>\n",
              "</div>\n",
              "      <button class=\"colab-df-convert\" onclick=\"convertToInteractive('df-b6028c52-48d0-4980-bb7a-d6a18bc80980')\"\n",
              "              title=\"Convert this dataframe to an interactive table.\"\n",
              "              style=\"display:none;\">\n",
              "        \n",
              "  <svg xmlns=\"http://www.w3.org/2000/svg\" height=\"24px\"viewBox=\"0 0 24 24\"\n",
              "       width=\"24px\">\n",
              "    <path d=\"M0 0h24v24H0V0z\" fill=\"none\"/>\n",
              "    <path d=\"M18.56 5.44l.94 2.06.94-2.06 2.06-.94-2.06-.94-.94-2.06-.94 2.06-2.06.94zm-11 1L8.5 8.5l.94-2.06 2.06-.94-2.06-.94L8.5 2.5l-.94 2.06-2.06.94zm10 10l.94 2.06.94-2.06 2.06-.94-2.06-.94-.94-2.06-.94 2.06-2.06.94z\"/><path d=\"M17.41 7.96l-1.37-1.37c-.4-.4-.92-.59-1.43-.59-.52 0-1.04.2-1.43.59L10.3 9.45l-7.72 7.72c-.78.78-.78 2.05 0 2.83L4 21.41c.39.39.9.59 1.41.59.51 0 1.02-.2 1.41-.59l7.78-7.78 2.81-2.81c.8-.78.8-2.07 0-2.86zM5.41 20L4 18.59l7.72-7.72 1.47 1.35L5.41 20z\"/>\n",
              "  </svg>\n",
              "      </button>\n",
              "      \n",
              "  <style>\n",
              "    .colab-df-container {\n",
              "      display:flex;\n",
              "      flex-wrap:wrap;\n",
              "      gap: 12px;\n",
              "    }\n",
              "\n",
              "    .colab-df-convert {\n",
              "      background-color: #E8F0FE;\n",
              "      border: none;\n",
              "      border-radius: 50%;\n",
              "      cursor: pointer;\n",
              "      display: none;\n",
              "      fill: #1967D2;\n",
              "      height: 32px;\n",
              "      padding: 0 0 0 0;\n",
              "      width: 32px;\n",
              "    }\n",
              "\n",
              "    .colab-df-convert:hover {\n",
              "      background-color: #E2EBFA;\n",
              "      box-shadow: 0px 1px 2px rgba(60, 64, 67, 0.3), 0px 1px 3px 1px rgba(60, 64, 67, 0.15);\n",
              "      fill: #174EA6;\n",
              "    }\n",
              "\n",
              "    [theme=dark] .colab-df-convert {\n",
              "      background-color: #3B4455;\n",
              "      fill: #D2E3FC;\n",
              "    }\n",
              "\n",
              "    [theme=dark] .colab-df-convert:hover {\n",
              "      background-color: #434B5C;\n",
              "      box-shadow: 0px 1px 3px 1px rgba(0, 0, 0, 0.15);\n",
              "      filter: drop-shadow(0px 1px 2px rgba(0, 0, 0, 0.3));\n",
              "      fill: #FFFFFF;\n",
              "    }\n",
              "  </style>\n",
              "\n",
              "      <script>\n",
              "        const buttonEl =\n",
              "          document.querySelector('#df-b6028c52-48d0-4980-bb7a-d6a18bc80980 button.colab-df-convert');\n",
              "        buttonEl.style.display =\n",
              "          google.colab.kernel.accessAllowed ? 'block' : 'none';\n",
              "\n",
              "        async function convertToInteractive(key) {\n",
              "          const element = document.querySelector('#df-b6028c52-48d0-4980-bb7a-d6a18bc80980');\n",
              "          const dataTable =\n",
              "            await google.colab.kernel.invokeFunction('convertToInteractive',\n",
              "                                                     [key], {});\n",
              "          if (!dataTable) return;\n",
              "\n",
              "          const docLinkHtml = 'Like what you see? Visit the ' +\n",
              "            '<a target=\"_blank\" href=https://colab.research.google.com/notebooks/data_table.ipynb>data table notebook</a>'\n",
              "            + ' to learn more about interactive tables.';\n",
              "          element.innerHTML = '';\n",
              "          dataTable['output_type'] = 'display_data';\n",
              "          await google.colab.output.renderOutput(dataTable, element);\n",
              "          const docLink = document.createElement('div');\n",
              "          docLink.innerHTML = docLinkHtml;\n",
              "          element.appendChild(docLink);\n",
              "        }\n",
              "      </script>\n",
              "    </div>\n",
              "  </div>\n",
              "  "
            ]
          },
          "metadata": {},
          "execution_count": 18
        }
      ]
    },
    {
      "cell_type": "code",
      "source": [
        "# Are ORB (Offensive Rebounds), AST (Assists), and BLK (Blocks) really so important?\n",
        "orb_g = df.loc[df.Pos=='guard']['ORB']\n",
        "orb_ng = df.loc[df.Pos=='non-guard']['ORB']\n",
        "plt.figure(figsize=(7,5))\n",
        "boxes = plt.boxplot([orb_g, orb_ng], labels=['Guard', 'Non-Guard'], patch_artist=True, medianprops={'linewidth': 2}, showmeans=True, widths=0.5)\n",
        "plt.ylabel('Offensive Rebounds')\n",
        "for box in boxes['boxes']:\n",
        "    box.set(facecolor = '#abcdef' )\n",
        "plt.show()"
      ],
      "metadata": {
        "colab": {
          "base_uri": "https://localhost:8080/",
          "height": 320
        },
        "id": "7uvd3fyswzT1",
        "outputId": "69896ddb-6d8e-42a0-bdda-0b7a8a0c3321"
      },
      "execution_count": null,
      "outputs": [
        {
          "output_type": "display_data",
          "data": {
            "text/plain": [
              "<Figure size 504x360 with 1 Axes>"
            ],
            "image/png": "[encoded data removed]"
          },
          "metadata": {
            "needs_background": "light"
          }
        }
      ]
    },
    {
      "cell_type": "code",
      "source": [
        "ast_g = df.loc[df.Pos=='guard']['AST']\n",
        "ast_ng = df.loc[df.Pos=='non-guard']['AST']\n",
        "plt.figure(figsize=(7,5))\n",
        "boxes = plt.boxplot([ast_g, ast_ng], labels=['Guard', 'Non-Guard'], patch_artist=True, medianprops={'linewidth': 2}, showmeans=True, widths=0.5)\n",
        "plt.ylabel('Assists')\n",
        "for box in boxes['boxes']:\n",
        "    box.set(facecolor = '#abcdef' )\n",
        "plt.show()"
      ],
      "metadata": {
        "id": "-qRdYNqSQyoh",
        "colab": {
          "base_uri": "https://localhost:8080/",
          "height": 320
        },
        "outputId": "bde78160-f1d6-4c8f-fa91-f4a0ef09b099"
      },
      "execution_count": null,
      "outputs": [
        {
          "output_type": "display_data",
          "data": {
            "text/plain": [
              "<Figure size 504x360 with 1 Axes>"
            ],
            "image/png": "[encoded data removed]"
          },
          "metadata": {
            "needs_background": "light"
          }
        }
      ]
    },
    {
      "cell_type": "code",
      "source": [
        "blk_g = df.loc[df.Pos=='guard']['BLK']\n",
        "blk_ng = df.loc[df.Pos=='non-guard']['BLK']\n",
        "plt.figure(figsize=(7,5))\n",
        "boxes = plt.boxplot([blk_g, blk_ng], labels=['Guard', 'Non-Guard'], patch_artist=True, medianprops={'linewidth': 2}, showmeans=True, widths=0.5)\n",
        "plt.ylabel('Blocks')\n",
        "for box in boxes['boxes']:\n",
        "    box.set(facecolor = '#abcdef' )\n",
        "plt.show()"
      ],
      "metadata": {
        "colab": {
          "base_uri": "https://localhost:8080/",
          "height": 320
        },
        "id": "weYKED24xSNj",
        "outputId": "e346bd17-1069-49f5-fd83-dd04a0a0b501"
      },
      "execution_count": null,
      "outputs": [
        {
          "output_type": "display_data",
          "data": {
            "text/plain": [
              "<Figure size 504x360 with 1 Axes>"
            ],
            "image/png": "[encoded data removed]"
          },
          "metadata": {
            "needs_background": "light"
          }
        }
      ]
    },
    {
      "cell_type": "code",
      "source": [
        "X = X.to_numpy()\n",
        "y = y.to_numpy()"
      ],
      "metadata": {
        "id": "5eIzIGdcxSQV"
      },
      "execution_count": null,
      "outputs": []
    },
    {
      "cell_type": "code",
      "source": [
        "# Train/Test Split\n",
        "from sklearn.model_selection import train_test_split\n",
        "X_train, X_test, y_train, y_test = train_test_split(X, y, test_size=0.3)"
      ],
      "metadata": {
        "id": "t13fVR4pxSTQ"
      },
      "execution_count": null,
      "outputs": []
    },
    {
      "cell_type": "markdown",
      "source": [
        "#model building"
      ],
      "metadata": {
        "id": "IUq5qHKrI4UP"
      }
    },
    {
      "cell_type": "code",
      "source": [
        "# Logistic Regression\n",
        "from sklearn.linear_model import LogisticRegression\n",
        "log_reg1 = LogisticRegression(C=1)\n",
        "log_reg1.fit(X_train, y_train)"
      ],
      "metadata": {
        "colab": {
          "base_uri": "https://localhost:8080/"
        },
        "id": "G8L4m_OYxSWU",
        "outputId": "d9132ce2-4247-4a7c-f754-1fb648b59421"
      },
      "execution_count": null,
      "outputs": [
        {
          "output_type": "execute_result",
          "data": {
            "text/plain": [
              "LogisticRegression(C=1)"
            ]
          },
          "metadata": {},
          "execution_count": 24
        }
      ]
    },
    {
      "cell_type": "code",
      "source": [
        "print(log_reg1.score(X_train, y_train))\n",
        "print(log_reg1.score(X_test, y_test))"
      ],
      "metadata": {
        "colab": {
          "base_uri": "https://localhost:8080/"
        },
        "id": "7Kw-MEgxxSZY",
        "outputId": "eaf6b6b8-653b-4aa8-db1d-b7313cabbcde"
      },
      "execution_count": null,
      "outputs": [
        {
          "output_type": "stream",
          "name": "stdout",
          "text": [
            "0.8449197860962567\n",
            "0.8174273858921162\n"
          ]
        }
      ]
    },
    {
      "cell_type": "code",
      "source": [
        "# The score for training data is a little bit higher than testing data. So, to avoid overfitting, reduce C a little bit.\n",
        "log_reg2 = LogisticRegression(C=0.5)\n",
        "log_reg2.fit(X_train, y_train)\n",
        "print(log_reg2.score(X_train, y_train))\n",
        "print(log_reg2.score(X_test, y_test))"
      ],
      "metadata": {
        "colab": {
          "base_uri": "https://localhost:8080/"
        },
        "id": "qhnyd_K4xSb8",
        "outputId": "ccb9ee85-8213-4fb8-ede0-95987b196f42"
      },
      "execution_count": null,
      "outputs": [
        {
          "output_type": "stream",
          "name": "stdout",
          "text": [
            "0.839572192513369\n",
            "0.8174273858921162\n"
          ]
        }
      ]
    },
    {
      "cell_type": "code",
      "source": [
        "# Cross Validation\n",
        "from sklearn.model_selection import cross_val_score\n",
        "log_score1 = cross_val_score(log_reg1, X, y, cv=4)\n",
        "log_score2 = cross_val_score(log_reg2, X, y, cv=4)\n",
        "print(log_score1)\n",
        "print(log_score2)"
      ],
      "metadata": {
        "colab": {
          "base_uri": "https://localhost:8080/"
        },
        "id": "JGLJeqUFxSfD",
        "outputId": "949dfbf8-145c-4693-c796-8e533afbaa37"
      },
      "execution_count": null,
      "outputs": [
        {
          "output_type": "stream",
          "name": "stdout",
          "text": [
            "[0.82587065 0.79104478 0.86       0.86      ]\n",
            "[0.81094527 0.78606965 0.865      0.85      ]\n"
          ]
        }
      ]
    },
    {
      "cell_type": "code",
      "source": [
        "# Let's stick to C=1.\n",
        "# Linear SVM\n",
        "from sklearn.pipeline import Pipeline\n",
        "from sklearn.svm import LinearSVC\n",
        "svm_clf1 = Pipeline([(\"linear_svc\", LinearSVC(C=1, loss=\"hinge\"))])\n",
        "svm_clf1.fit(X_train, y_train)"
      ],
      "metadata": {
        "colab": {
          "base_uri": "https://localhost:8080/"
        },
        "id": "N4Uv9jjOxSiQ",
        "outputId": "00e5b870-55f1-4ccc-ec0b-73c436bc8900"
      },
      "execution_count": null,
      "outputs": [
        {
          "output_type": "execute_result",
          "data": {
            "text/plain": [
              "Pipeline(steps=[('linear_svc', LinearSVC(C=1, loss='hinge'))])"
            ]
          },
          "metadata": {},
          "execution_count": 28
        }
      ]
    },
    {
      "cell_type": "code",
      "source": [
        "Pipeline(steps=[('linear_svc', LinearSVC(C=1, loss='hinge'))])"
      ],
      "metadata": {
        "colab": {
          "base_uri": "https://localhost:8080/"
        },
        "id": "dXQ1zfQhxSku",
        "outputId": "d78c9481-4a0b-4b76-d5f8-ee878005dfbe"
      },
      "execution_count": null,
      "outputs": [
        {
          "output_type": "execute_result",
          "data": {
            "text/plain": [
              "Pipeline(steps=[('linear_svc', LinearSVC(C=1, loss='hinge'))])"
            ]
          },
          "metadata": {},
          "execution_count": 29
        }
      ]
    },
    {
      "cell_type": "code",
      "source": [
        "print(svm_clf1.score(X_train, y_train))\n",
        "print(svm_clf1.score(X_test, y_test))"
      ],
      "metadata": {
        "colab": {
          "base_uri": "https://localhost:8080/"
        },
        "id": "PxOgR7ceyeBu",
        "outputId": "66c24db5-e5e8-4dee-91ba-71b76c9f292f"
      },
      "execution_count": null,
      "outputs": [
        {
          "output_type": "stream",
          "name": "stdout",
          "text": [
            "0.8360071301247772\n",
            "0.8132780082987552\n"
          ]
        }
      ]
    },
    {
      "cell_type": "code",
      "source": [
        "# Looks pretty good! But it failed to converge.\n",
        "svm_clf2 = Pipeline([(\"linear_svc\", LinearSVC(C=0.5, loss=\"hinge\"))])\n",
        "svm_clf2.fit(X_train, y_train)\n",
        "print(svm_clf2.score(X_train, y_train))\n",
        "print(svm_clf2.score(X_test, y_test))"
      ],
      "metadata": {
        "colab": {
          "base_uri": "https://localhost:8080/"
        },
        "id": "ipmKn6ZvyeFe",
        "outputId": "5e71ab31-bc1b-4c2e-f3d1-bf3ee105a5d5"
      },
      "execution_count": null,
      "outputs": [
        {
          "output_type": "stream",
          "name": "stdout",
          "text": [
            "0.8342245989304813\n",
            "0.8215767634854771\n"
          ]
        }
      ]
    },
    {
      "cell_type": "code",
      "source": [
        "svm_clf3 = Pipeline([(\"linear_svc\", LinearSVC(C=0.1, loss=\"hinge\"))])\n",
        "svm_clf3.fit(X_train, y_train)\n",
        "print(svm_clf3.score(X_train, y_train))\n",
        "print(svm_clf3.score(X_test, y_test))"
      ],
      "metadata": {
        "colab": {
          "base_uri": "https://localhost:8080/"
        },
        "id": "fqQR-5RjyeI_",
        "outputId": "3c542165-f5c3-4569-a84f-81034915944d"
      },
      "execution_count": null,
      "outputs": [
        {
          "output_type": "stream",
          "name": "stdout",
          "text": [
            "0.7843137254901961\n",
            "0.7925311203319502\n"
          ]
        }
      ]
    },
    {
      "cell_type": "code",
      "source": [],
      "metadata": {
        "id": "7u2UPJDc-h9F"
      },
      "execution_count": null,
      "outputs": []
    },
    {
      "cell_type": "code",
      "source": [
        "# Let's stick to C=0.5\n",
        "# Gaussian RBF Kernel\n",
        "from sklearn.svm import SVC\n",
        "rbf_clf1 = Pipeline([(\"svm_clf\", SVC(kernel=\"rbf\", gamma=5, C=1))])\n",
        "rbf_clf1.fit(X_train, y_train)\n",
        "print(rbf_clf1.score(X_train, y_train))\n",
        "print(rbf_clf1.score(X_test, y_test))"
      ],
      "metadata": {
        "colab": {
          "base_uri": "https://localhost:8080/"
        },
        "id": "UQ1CnOPRzsMS",
        "outputId": "1ba237ac-f303-47cd-b38c-d83842fa316f"
      },
      "execution_count": null,
      "outputs": [
        {
          "output_type": "stream",
          "name": "stdout",
          "text": [
            "0.8591800356506238\n",
            "0.8132780082987552\n"
          ]
        }
      ]
    },
    {
      "cell_type": "code",
      "source": [
        "# Since our dataset is small, use Cross-Validation\n",
        "from sklearn.model_selection import cross_val_score\n",
        "scores1 = cross_val_score(rbf_clf1, X, y, cv=4, scoring='accuracy')\n",
        "scores1\n"
      ],
      "metadata": {
        "colab": {
          "base_uri": "https://localhost:8080/"
        },
        "id": "pCvGVFlazsPb",
        "outputId": "afbfa981-713b-4504-b698-78e1f6eba991"
      },
      "execution_count": null,
      "outputs": [
        {
          "output_type": "execute_result",
          "data": {
            "text/plain": [
              "array([0.80099502, 0.7960199 , 0.83      , 0.855     ])"
            ]
          },
          "metadata": {},
          "execution_count": 34
        }
      ]
    },
    {
      "cell_type": "code",
      "source": [
        "# Looks nice! Try other values of gamma and C\n",
        "rbf_clf2 = Pipeline([(\"svm_clf\", SVC(kernel=\"rbf\", gamma=10, C=0.5))])\n",
        "rbf_clf2.fit(X_train, y_train)\n",
        "print(rbf_clf2.score(X_train, y_train))\n",
        "print(rbf_clf2.score(X_test, y_test))"
      ],
      "metadata": {
        "colab": {
          "base_uri": "https://localhost:8080/"
        },
        "id": "b5clMqlnzsRR",
        "outputId": "e77638cf-075c-4959-d0ec-7caad051607e"
      },
      "execution_count": null,
      "outputs": [
        {
          "output_type": "stream",
          "name": "stdout",
          "text": [
            "0.8734402852049911\n",
            "0.8008298755186722\n"
          ]
        }
      ]
    },
    {
      "cell_type": "code",
      "source": [
        "# Cross-Validation\n",
        "scores2 = cross_val_score(rbf_clf2, X, y, cv=4, scoring='accuracy')\n",
        "scores2"
      ],
      "metadata": {
        "colab": {
          "base_uri": "https://localhost:8080/"
        },
        "id": "H0Y_HIpVzsTZ",
        "outputId": "9e19b563-a234-4411-d009-e5a94c1acf72"
      },
      "execution_count": null,
      "outputs": [
        {
          "output_type": "execute_result",
          "data": {
            "text/plain": [
              "array([0.80597015, 0.78606965, 0.815     , 0.835     ])"
            ]
          },
          "metadata": {},
          "execution_count": 36
        }
      ]
    },
    {
      "cell_type": "code",
      "source": [
        "# Let's stick to gamma=5, C=1.\n",
        "# Polynomial SVM\n",
        "poly_clf1 = Pipeline([\n",
        "    (\"svm_clf\", SVC(kernel=\"poly\", degree=3, coef0=1, C=5))\n",
        "])\n",
        "poly_clf1.fit(X_train, y_train)\n",
        "print(poly_clf1.score(X_train, y_train))\n",
        "print(poly_clf1.score(X_test, y_test))"
      ],
      "metadata": {
        "colab": {
          "base_uri": "https://localhost:8080/"
        },
        "id": "820-0ztKzsVm",
        "outputId": "70e83015-4380-4f10-886f-b114d22d65c3"
      },
      "execution_count": null,
      "outputs": [
        {
          "output_type": "stream",
          "name": "stdout",
          "text": [
            "0.8841354723707665\n",
            "0.8049792531120332\n"
          ]
        }
      ]
    },
    {
      "cell_type": "code",
      "source": [
        "# Seems to be overfitting, let's make degree=2:\n",
        "poly_clf2 = Pipeline([\n",
        "    (\"svm_clf\", SVC(kernel=\"poly\", degree=2, coef0=1, C=5))\n",
        "])\n",
        "poly_clf2.fit(X_train, y_train)\n",
        "print(poly_clf2.score(X_train, y_train))\n",
        "print(poly_clf2.score(X_test, y_test))"
      ],
      "metadata": {
        "colab": {
          "base_uri": "https://localhost:8080/"
        },
        "id": "LM7uFpx1zsY9",
        "outputId": "3ed7a448-0101-428f-d413-611f68a23730"
      },
      "execution_count": null,
      "outputs": [
        {
          "output_type": "stream",
          "name": "stdout",
          "text": [
            "0.8680926916221033\n",
            "0.8381742738589212\n"
          ]
        }
      ]
    },
    {
      "cell_type": "code",
      "source": [
        "# Cross-Validation:\n",
        "poly_score1 = cross_val_score(poly_clf1, X, y, cv=4, scoring='accuracy')\n",
        "poly_score2 = cross_val_score(poly_clf2, X, y, cv=4, scoring='accuracy')\n",
        "print(poly_score1)\n",
        "print(poly_score2)"
      ],
      "metadata": {
        "colab": {
          "base_uri": "https://localhost:8080/"
        },
        "id": "pnk7nZCAyeMK",
        "outputId": "19fb20c4-0417-4f9b-d6ec-e0a4811893e2"
      },
      "execution_count": null,
      "outputs": [
        {
          "output_type": "stream",
          "name": "stdout",
          "text": [
            "[0.80099502 0.81094527 0.83       0.815     ]\n",
            "[0.80597015 0.82587065 0.835      0.85      ]\n"
          ]
        }
      ]
    },
    {
      "cell_type": "code",
      "source": [
        "# The second model is better, let's keep degree=2, C=5 for polynomial SVM.\n",
        "# Decision Tree\n",
        "from sklearn.ensemble import BaggingClassifier\n",
        "from sklearn.tree import DecisionTreeClassifier\n",
        "bag_clf1 = BaggingClassifier(DecisionTreeClassifier(splitter='random', max_leaf_nodes=40), n_estimators=50, max_samples=1.0, bootstrap=True,n_jobs=-1)\n",
        "bag_clf1.fit(X_train, y_train)\n",
        "print(bag_clf1.score(X_train, y_train))\n",
        "print(bag_clf1.score(X_test, y_test))"
      ],
      "metadata": {
        "colab": {
          "base_uri": "https://localhost:8080/"
        },
        "id": "SGNZsjYd1O2q",
        "outputId": "29a803bc-75ca-4b8f-8853-45e173d029c6"
      },
      "execution_count": null,
      "outputs": [
        {
          "output_type": "stream",
          "name": "stdout",
          "text": [
            "0.9340463458110517\n",
            "0.8298755186721992\n"
          ]
        }
      ]
    },
    {
      "cell_type": "code",
      "source": [
        "# Seems to be overfitting. Let's reduce max_leaf_nodes.\n",
        "bag_clf2 = BaggingClassifier(DecisionTreeClassifier(splitter='random', max_leaf_nodes=25), n_estimators=100, max_samples=1.0, bootstrap=True,n_jobs=-1)\n",
        "bag_clf2.fit(X_train, y_train)\n",
        "print(bag_clf2.score(X_train, y_train))\n",
        "print(bag_clf2.score(X_test, y_test))"
      ],
      "metadata": {
        "colab": {
          "base_uri": "https://localhost:8080/"
        },
        "id": "f0TKld321O6N",
        "outputId": "b9e7622f-31df-4573-e23d-35694b8feed2"
      },
      "execution_count": null,
      "outputs": [
        {
          "output_type": "stream",
          "name": "stdout",
          "text": [
            "0.8983957219251337\n",
            "0.8257261410788381\n"
          ]
        }
      ]
    },
    {
      "cell_type": "code",
      "source": [
        "xgb_score1 = cross_val_score(xgb_clf1, X, y, cv=4, scoring='accuracy')\n",
        "xgb_score2 = cross_val_score(xgb_clf2, X, y, cv=4, scoring='accuracy')\n",
        "print(xgb_score1)\n",
        "print(xgb_score2)"
      ],
      "metadata": {
        "colab": {
          "base_uri": "https://localhost:8080/"
        },
        "id": "54bEcq0A2HJy",
        "outputId": "9f81b010-3cea-4341-fca0-b8eac84138bd"
      },
      "execution_count": null,
      "outputs": [
        {
          "output_type": "stream",
          "name": "stdout",
          "text": [
            "[nan nan nan nan]\n",
            "[nan nan nan nan]\n"
          ]
        },
        {
          "output_type": "stream",
          "name": "stderr",
          "text": [
            "/usr/local/lib/python3.8/dist-packages/sklearn/model_selection/_validation.py:372: FitFailedWarning: \n",
            "4 fits failed out of a total of 4.\n",
            "The score on these train-test partitions for these parameters will be set to nan.\n",
            "If these failures are not expected, you can try to debug them by setting error_score='raise'.\n",
            "\n",
            "Below are more details about the failures:\n",
            "--------------------------------------------------------------------------------\n",
            "4 fits failed with the following error:\n",
            "Traceback (most recent call last):\n",
            "  File \"/usr/local/lib/python3.8/dist-packages/sklearn/model_selection/_validation.py\", line 680, in _fit_and_score\n",
            "    estimator.fit(X_train, y_train, **fit_params)\n",
            "  File \"/usr/local/lib/python3.8/dist-packages/xgboost/core.py\", line 620, in inner_f\n",
            "    return func(**kwargs)\n",
            "  File \"/usr/local/lib/python3.8/dist-packages/xgboost/sklearn.py\", line 1440, in fit\n",
            "    raise ValueError(\n",
            "ValueError: Invalid classes inferred from unique values of `y`.  Expected: [0 1], got ['guard' 'non-guard']\n",
            "\n",
            "  warnings.warn(some_fits_failed_message, FitFailedWarning)\n",
            "/usr/local/lib/python3.8/dist-packages/sklearn/model_selection/_validation.py:372: FitFailedWarning: \n",
            "4 fits failed out of a total of 4.\n",
            "The score on these train-test partitions for these parameters will be set to nan.\n",
            "If these failures are not expected, you can try to debug them by setting error_score='raise'.\n",
            "\n",
            "Below are more details about the failures:\n",
            "--------------------------------------------------------------------------------\n",
            "4 fits failed with the following error:\n",
            "Traceback (most recent call last):\n",
            "  File \"/usr/local/lib/python3.8/dist-packages/sklearn/model_selection/_validation.py\", line 680, in _fit_and_score\n",
            "    estimator.fit(X_train, y_train, **fit_params)\n",
            "  File \"/usr/local/lib/python3.8/dist-packages/xgboost/core.py\", line 620, in inner_f\n",
            "    return func(**kwargs)\n",
            "  File \"/usr/local/lib/python3.8/dist-packages/xgboost/sklearn.py\", line 1440, in fit\n",
            "    raise ValueError(\n",
            "ValueError: Invalid classes inferred from unique values of `y`.  Expected: [0 1], got ['guard' 'non-guard']\n",
            "\n",
            "  warnings.warn(some_fits_failed_message, FitFailedWarning)\n"
          ]
        }
      ]
    },
    {
      "cell_type": "code",
      "source": [
        "# Let's keep learning_rate=1, n_estimators=30, max_depth=2 for our XGBoosting Classifier.\n",
        "# ROC Curve:\n",
        "from sklearn.preprocessing import label_binarize\n",
        "ybin = label_binarize(y, classes=['non-guard', 'guard']).ravel()\n",
        "ybin[:10]"
      ],
      "metadata": {
        "colab": {
          "base_uri": "https://localhost:8080/"
        },
        "id": "KUs9JZ2e2HMf",
        "outputId": "ef5432cf-6cec-48f4-aab0-2c4d94c977f8"
      },
      "execution_count": null,
      "outputs": [
        {
          "output_type": "execute_result",
          "data": {
            "text/plain": [
              "array([0, 0, 0, 0, 0, 1, 1, 1, 1, 0])"
            ]
          },
          "metadata": {},
          "execution_count": 48
        }
      ]
    },
    {
      "cell_type": "code",
      "source": [
        "from sklearn.metrics import roc_curve, auc\n",
        "Xbin_train, Xbin_test, ybin_train, ybin_test = train_test_split(X, ybin, test_size=0.3)\n",
        "\n",
        "poly_clf2.fit(Xbin_train, ybin_train)\n",
        "ybin_test_pred = poly_clf2.decision_function(Xbin_test)\n",
        "fpr1, tpr1, te_thresholds1 = roc_curve(ybin_test, ybin_test_pred)\n",
        "\n",
        "xgb_clf2.fit(Xbin_train, ybin_train)\n",
        "ybin_test_pred2 = xgb_clf2.predict_proba(Xbin_test)[:,1]\n",
        "fpr2, tpr2, te_thresholds2 = roc_curve(ybin_test, ybin_test_pred2)\n",
        "\n",
        "log_reg1.fit(Xbin_train, ybin_train)\n",
        "ybin_test_pred3 = log_reg1.predict_proba(Xbin_test)[:,1]\n",
        "fpr3, tpr3, te_thresholds3 = roc_curve(ybin_test, ybin_test_pred3)\n",
        "\n",
        "plt.figure(figsize=(10,7))\n",
        "plt.grid()\n",
        "plt.plot(fpr1, tpr1, label='Poly_SVM')\n",
        "plt.plot(fpr2, tpr2, label='XGBoost_clf')\n",
        "plt.plot(fpr3, tpr3, label='Logistic_reg')\n",
        "plt.legend(loc='lower right')\n",
        "plt.plot([0,1],[0,1], 'k--')\n",
        "plt.xlabel('False Positive Rate')\n",
        "plt.ylabel('True Positive Rate')\n",
        "plt.show()"
      ],
      "metadata": {
        "colab": {
          "base_uri": "https://localhost:8080/",
          "height": 442
        },
        "id": "ACHDcunN2HPN",
        "outputId": "773b2d65-cd87-4099-a3eb-1ee8cded7566"
      },
      "execution_count": null,
      "outputs": [
        {
          "output_type": "display_data",
          "data": {
            "text/plain": [
              "<Figure size 720x504 with 1 Axes>"
            ],
            "image/png": "[encoded data removed]"
          },
          "metadata": {
            "needs_background": "light"
          }
        }
      ]
    },
    {
      "cell_type": "code",
      "source": [
        "from sklearn.metrics import roc_auc_score\n",
        "print(roc_auc_score(ybin_test, ybin_test_pred))\n",
        "print(roc_auc_score(ybin_test, ybin_test_pred2))\n",
        "print(roc_auc_score(ybin_test, ybin_test_pred3))"
      ],
      "metadata": {
        "colab": {
          "base_uri": "https://localhost:8080/"
        },
        "id": "toICMu0N2HRr",
        "outputId": "240f0381-5158-4948-fb23-acb2f9a89ca7"
      },
      "execution_count": null,
      "outputs": [
        {
          "output_type": "stream",
          "name": "stdout",
          "text": [
            "0.9493407356002775\n",
            "0.9357390700902152\n",
            "0.9326856349757113\n"
          ]
        }
      ]
    },
    {
      "cell_type": "code",
      "source": [
        "auc_df = pd.DataFrame({'Model': ['Poly_SVM', 'XGBoost_clf', 'Logistic_reg'], 'ROC_AUC': [roc_auc_score(ybin_test, ybin_test_pred),\n",
        "                                                                                        roc_auc_score(ybin_test, ybin_test_pred2),\n",
        "                                                                                        roc_auc_score(ybin_test, ybin_test_pred3)]})\n",
        "auc_df"
      ],
      "metadata": {
        "colab": {
          "base_uri": "https://localhost:8080/",
          "height": 143
        },
        "id": "7ecTekRz2HVO",
        "outputId": "4b352f03-4cb6-4a67-857d-34d1a50c894f"
      },
      "execution_count": null,
      "outputs": [
        {
          "output_type": "execute_result",
          "data": {
            "text/plain": [
              "          Model   ROC_AUC\n",
              "0      Poly_SVM  0.949341\n",
              "1   XGBoost_clf  0.935739\n",
              "2  Logistic_reg  0.932686"
            ],
            "text/html": [
              "\n",
              "  <div id=\"df-96d9f152-e382-4c56-af7e-139ba458966f\">\n",
              "    <div class=\"colab-df-container\">\n",
              "      <div>\n",
              "<style scoped>\n",
              "    .dataframe tbody tr th:only-of-type {\n",
              "        vertical-align: middle;\n",
              "    }\n",
              "\n",
              "    .dataframe tbody tr th {\n",
              "        vertical-align: top;\n",
              "    }\n",
              "\n",
              "    .dataframe thead th {\n",
              "        text-align: right;\n",
              "    }\n",
              "</style>\n",
              "<table border=\"1\" class=\"dataframe\">\n",
              "  <thead>\n",
              "    <tr style=\"text-align: right;\">\n",
              "      <th></th>\n",
              "      <th>Model</th>\n",
              "      <th>ROC_AUC</th>\n",
              "    </tr>\n",
              "  </thead>\n",
              "  <tbody>\n",
              "    <tr>\n",
              "      <th>0</th>\n",
              "      <td>Poly_SVM</td>\n",
              "      <td>0.949341</td>\n",
              "    </tr>\n",
              "    <tr>\n",
              "      <th>1</th>\n",
              "      <td>XGBoost_clf</td>\n",
              "      <td>0.935739</td>\n",
              "    </tr>\n",
              "    <tr>\n",
              "      <th>2</th>\n",
              "      <td>Logistic_reg</td>\n",
              "      <td>0.932686</td>\n",
              "    </tr>\n",
              "  </tbody>\n",
              "</table>\n",
              "</div>\n",
              "      <button class=\"colab-df-convert\" onclick=\"convertToInteractive('df-96d9f152-e382-4c56-af7e-139ba458966f')\"\n",
              "              title=\"Convert this dataframe to an interactive table.\"\n",
              "              style=\"display:none;\">\n",
              "        \n",
              "  <svg xmlns=\"http://www.w3.org/2000/svg\" height=\"24px\"viewBox=\"0 0 24 24\"\n",
              "       width=\"24px\">\n",
              "    <path d=\"M0 0h24v24H0V0z\" fill=\"none\"/>\n",
              "    <path d=\"M18.56 5.44l.94 2.06.94-2.06 2.06-.94-2.06-.94-.94-2.06-.94 2.06-2.06.94zm-11 1L8.5 8.5l.94-2.06 2.06-.94-2.06-.94L8.5 2.5l-.94 2.06-2.06.94zm10 10l.94 2.06.94-2.06 2.06-.94-2.06-.94-.94-2.06-.94 2.06-2.06.94z\"/><path d=\"M17.41 7.96l-1.37-1.37c-.4-.4-.92-.59-1.43-.59-.52 0-1.04.2-1.43.59L10.3 9.45l-7.72 7.72c-.78.78-.78 2.05 0 2.83L4 21.41c.39.39.9.59 1.41.59.51 0 1.02-.2 1.41-.59l7.78-7.78 2.81-2.81c.8-.78.8-2.07 0-2.86zM5.41 20L4 18.59l7.72-7.72 1.47 1.35L5.41 20z\"/>\n",
              "  </svg>\n",
              "      </button>\n",
              "      \n",
              "  <style>\n",
              "    .colab-df-container {\n",
              "      display:flex;\n",
              "      flex-wrap:wrap;\n",
              "      gap: 12px;\n",
              "    }\n",
              "\n",
              "    .colab-df-convert {\n",
              "      background-color: #E8F0FE;\n",
              "      border: none;\n",
              "      border-radius: 50%;\n",
              "      cursor: pointer;\n",
              "      display: none;\n",
              "      fill: #1967D2;\n",
              "      height: 32px;\n",
              "      padding: 0 0 0 0;\n",
              "      width: 32px;\n",
              "    }\n",
              "\n",
              "    .colab-df-convert:hover {\n",
              "      background-color: #E2EBFA;\n",
              "      box-shadow: 0px 1px 2px rgba(60, 64, 67, 0.3), 0px 1px 3px 1px rgba(60, 64, 67, 0.15);\n",
              "      fill: #174EA6;\n",
              "    }\n",
              "\n",
              "    [theme=dark] .colab-df-convert {\n",
              "      background-color: #3B4455;\n",
              "      fill: #D2E3FC;\n",
              "    }\n",
              "\n",
              "    [theme=dark] .colab-df-convert:hover {\n",
              "      background-color: #434B5C;\n",
              "      box-shadow: 0px 1px 3px 1px rgba(0, 0, 0, 0.15);\n",
              "      filter: drop-shadow(0px 1px 2px rgba(0, 0, 0, 0.3));\n",
              "      fill: #FFFFFF;\n",
              "    }\n",
              "  </style>\n",
              "\n",
              "      <script>\n",
              "        const buttonEl =\n",
              "          document.querySelector('#df-96d9f152-e382-4c56-af7e-139ba458966f button.colab-df-convert');\n",
              "        buttonEl.style.display =\n",
              "          google.colab.kernel.accessAllowed ? 'block' : 'none';\n",
              "\n",
              "        async function convertToInteractive(key) {\n",
              "          const element = document.querySelector('#df-96d9f152-e382-4c56-af7e-139ba458966f');\n",
              "          const dataTable =\n",
              "            await google.colab.kernel.invokeFunction('convertToInteractive',\n",
              "                                                     [key], {});\n",
              "          if (!dataTable) return;\n",
              "\n",
              "          const docLinkHtml = 'Like what you see? Visit the ' +\n",
              "            '<a target=\"_blank\" href=https://colab.research.google.com/notebooks/data_table.ipynb>data table notebook</a>'\n",
              "            + ' to learn more about interactive tables.';\n",
              "          element.innerHTML = '';\n",
              "          dataTable['output_type'] = 'display_data';\n",
              "          await google.colab.output.renderOutput(dataTable, element);\n",
              "          const docLink = document.createElement('div');\n",
              "          docLink.innerHTML = docLinkHtml;\n",
              "          element.appendChild(docLink);\n",
              "        }\n",
              "      </script>\n",
              "    </div>\n",
              "  </div>\n",
              "  "
            ]
          },
          "metadata": {},
          "execution_count": 53
        }
      ]
    }
  ]
}